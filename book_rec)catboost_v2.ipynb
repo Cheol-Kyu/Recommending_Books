{
  "nbformat": 4,
  "nbformat_minor": 0,
  "metadata": {
    "colab": {
      "provenance": [],
      "gpuType": "V100",
      "mount_file_id": "1oOhHsWuNC8pIKMG1UKo7SRJZEhgXZH5E",
      "authorship_tag": "ABX9TyM5X9QNIYBOZbcvNREgP8pC"
    },
    "kernelspec": {
      "name": "python3",
      "display_name": "Python 3"
    },
    "language_info": {
      "name": "python"
    }
  },
  "cells": [
    {
      "cell_type": "code",
      "source": [
        "from google.colab import drive\n",
        "drive.mount('/content/drive')"
      ],
      "metadata": {
        "id": "d9ZkWLkiDR0G",
        "colab": {
          "base_uri": "https://localhost:8080/"
        },
        "outputId": "caf657ce-e567-4bbc-997d-923982ce91c1"
      },
      "execution_count": null,
      "outputs": [
        {
          "output_type": "stream",
          "name": "stdout",
          "text": [
            "Mounted at /content/drive\n"
          ]
        }
      ]
    },
    {
      "cell_type": "code",
      "execution_count": null,
      "metadata": {
        "colab": {
          "base_uri": "https://localhost:8080/"
        },
        "id": "MwXNmCWLCx7u",
        "outputId": "8c026ed7-9e39-420c-c80c-84ab1fefd9ad"
      },
      "outputs": [
        {
          "output_type": "stream",
          "name": "stdout",
          "text": [
            "Looking in indexes: https://pypi.org/simple, https://us-python.pkg.dev/colab-wheels/public/simple/\n",
            "Collecting catboost\n",
            "  Downloading catboost-1.2-cp310-cp310-manylinux2014_x86_64.whl (98.6 MB)\n",
            "\u001b[2K     \u001b[90m━━━━━━━━━━━━━━━━━━━━━━━━━━━━━━━━━━━━━━━━\u001b[0m \u001b[32m98.6/98.6 MB\u001b[0m \u001b[31m7.4 MB/s\u001b[0m eta \u001b[36m0:00:00\u001b[0m\n",
            "\u001b[?25hRequirement already satisfied: graphviz in /usr/local/lib/python3.10/dist-packages (from catboost) (0.20.1)\n",
            "Requirement already satisfied: matplotlib in /usr/local/lib/python3.10/dist-packages (from catboost) (3.7.1)\n",
            "Requirement already satisfied: numpy>=1.16.0 in /usr/local/lib/python3.10/dist-packages (from catboost) (1.22.4)\n",
            "Requirement already satisfied: pandas>=0.24 in /usr/local/lib/python3.10/dist-packages (from catboost) (1.5.3)\n",
            "Requirement already satisfied: scipy in /usr/local/lib/python3.10/dist-packages (from catboost) (1.10.1)\n",
            "Requirement already satisfied: plotly in /usr/local/lib/python3.10/dist-packages (from catboost) (5.13.1)\n",
            "Requirement already satisfied: six in /usr/local/lib/python3.10/dist-packages (from catboost) (1.16.0)\n",
            "Requirement already satisfied: python-dateutil>=2.8.1 in /usr/local/lib/python3.10/dist-packages (from pandas>=0.24->catboost) (2.8.2)\n",
            "Requirement already satisfied: pytz>=2020.1 in /usr/local/lib/python3.10/dist-packages (from pandas>=0.24->catboost) (2022.7.1)\n",
            "Requirement already satisfied: contourpy>=1.0.1 in /usr/local/lib/python3.10/dist-packages (from matplotlib->catboost) (1.0.7)\n",
            "Requirement already satisfied: cycler>=0.10 in /usr/local/lib/python3.10/dist-packages (from matplotlib->catboost) (0.11.0)\n",
            "Requirement already satisfied: fonttools>=4.22.0 in /usr/local/lib/python3.10/dist-packages (from matplotlib->catboost) (4.39.3)\n",
            "Requirement already satisfied: kiwisolver>=1.0.1 in /usr/local/lib/python3.10/dist-packages (from matplotlib->catboost) (1.4.4)\n",
            "Requirement already satisfied: packaging>=20.0 in /usr/local/lib/python3.10/dist-packages (from matplotlib->catboost) (23.1)\n",
            "Requirement already satisfied: pillow>=6.2.0 in /usr/local/lib/python3.10/dist-packages (from matplotlib->catboost) (8.4.0)\n",
            "Requirement already satisfied: pyparsing>=2.3.1 in /usr/local/lib/python3.10/dist-packages (from matplotlib->catboost) (3.0.9)\n",
            "Requirement already satisfied: tenacity>=6.2.0 in /usr/local/lib/python3.10/dist-packages (from plotly->catboost) (8.2.2)\n",
            "Installing collected packages: catboost\n",
            "Successfully installed catboost-1.2\n",
            "Looking in indexes: https://pypi.org/simple, https://us-python.pkg.dev/colab-wheels/public/simple/\n",
            "Collecting shap\n",
            "  Downloading shap-0.41.0-cp310-cp310-manylinux_2_12_x86_64.manylinux2010_x86_64.whl (572 kB)\n",
            "\u001b[2K     \u001b[90m━━━━━━━━━━━━━━━━━━━━━━━━━━━━━━━━━━━━━━\u001b[0m \u001b[32m572.6/572.6 kB\u001b[0m \u001b[31m15.6 MB/s\u001b[0m eta \u001b[36m0:00:00\u001b[0m\n",
            "\u001b[?25hRequirement already satisfied: numpy in /usr/local/lib/python3.10/dist-packages (from shap) (1.22.4)\n",
            "Requirement already satisfied: scipy in /usr/local/lib/python3.10/dist-packages (from shap) (1.10.1)\n",
            "Requirement already satisfied: scikit-learn in /usr/local/lib/python3.10/dist-packages (from shap) (1.2.2)\n",
            "Requirement already satisfied: pandas in /usr/local/lib/python3.10/dist-packages (from shap) (1.5.3)\n",
            "Requirement already satisfied: tqdm>4.25.0 in /usr/local/lib/python3.10/dist-packages (from shap) (4.65.0)\n",
            "Requirement already satisfied: packaging>20.9 in /usr/local/lib/python3.10/dist-packages (from shap) (23.1)\n",
            "Collecting slicer==0.0.7 (from shap)\n",
            "  Downloading slicer-0.0.7-py3-none-any.whl (14 kB)\n",
            "Requirement already satisfied: numba in /usr/local/lib/python3.10/dist-packages (from shap) (0.56.4)\n",
            "Requirement already satisfied: cloudpickle in /usr/local/lib/python3.10/dist-packages (from shap) (2.2.1)\n",
            "Requirement already satisfied: llvmlite<0.40,>=0.39.0dev0 in /usr/local/lib/python3.10/dist-packages (from numba->shap) (0.39.1)\n",
            "Requirement already satisfied: setuptools in /usr/local/lib/python3.10/dist-packages (from numba->shap) (67.7.2)\n",
            "Requirement already satisfied: python-dateutil>=2.8.1 in /usr/local/lib/python3.10/dist-packages (from pandas->shap) (2.8.2)\n",
            "Requirement already satisfied: pytz>=2020.1 in /usr/local/lib/python3.10/dist-packages (from pandas->shap) (2022.7.1)\n",
            "Requirement already satisfied: joblib>=1.1.1 in /usr/local/lib/python3.10/dist-packages (from scikit-learn->shap) (1.2.0)\n",
            "Requirement already satisfied: threadpoolctl>=2.0.0 in /usr/local/lib/python3.10/dist-packages (from scikit-learn->shap) (3.1.0)\n",
            "Requirement already satisfied: six>=1.5 in /usr/local/lib/python3.10/dist-packages (from python-dateutil>=2.8.1->pandas->shap) (1.16.0)\n",
            "Installing collected packages: slicer, shap\n",
            "Successfully installed shap-0.41.0 slicer-0.0.7\n"
          ]
        }
      ],
      "source": [
        "!pip install catboost\n",
        "!pip install shap"
      ]
    },
    {
      "cell_type": "code",
      "source": [
        "import re\n",
        "import os\n",
        "import random\n",
        "\n",
        "import pandas as pd\n",
        "import numpy as np\n",
        "import matplotlib.pyplot as plt\n",
        "\n",
        "from sklearn.model_selection import train_test_split\n",
        "from sklearn.preprocessing import StandardScaler\n",
        "from catboost import CatBoostRegressor, Pool\n",
        "import shap\n",
        "from gensim.models.word2vec import Word2Vec\n",
        "\n",
        "from tqdm import tqdm"
      ],
      "metadata": {
        "id": "hxjyDz6dC6cy"
      },
      "execution_count": null,
      "outputs": []
    },
    {
      "cell_type": "code",
      "source": [
        "def seed_everything(seed):\n",
        "  random.seed(seed)\n",
        "  os.environ['PYTHONHASHSEED'] = str(seed)\n",
        "  np.random.seed(seed)\n",
        "\n",
        "seed_everything(42)"
      ],
      "metadata": {
        "id": "PAIKB0ifbFzP"
      },
      "execution_count": null,
      "outputs": []
    },
    {
      "cell_type": "code",
      "source": [
        "PATH = '/content/drive/MyDrive/Pywork/rec_books'"
      ],
      "metadata": {
        "id": "Wvb_HJQbDkNB"
      },
      "execution_count": null,
      "outputs": []
    },
    {
      "cell_type": "code",
      "source": [
        "df = pd.read_csv(PATH+'/train.csv')\n",
        "df.head(3)"
      ],
      "metadata": {
        "colab": {
          "base_uri": "https://localhost:8080/",
          "height": 143
        },
        "id": "4ejJ0FBHDyNl",
        "outputId": "1e2c3485-6858-4e8c-f7a0-6f60a57ec70e"
      },
      "execution_count": null,
      "outputs": [
        {
          "output_type": "execute_result",
          "data": {
            "text/plain": [
              "             ID     User-ID      Book-ID  Book-Rating   Age  \\\n",
              "0  TRAIN_000000  USER_00000  BOOK_044368            8  23.0   \n",
              "1  TRAIN_000001  USER_00000  BOOK_081205            8  23.0   \n",
              "2  TRAIN_000002  USER_00000  BOOK_086781            0  23.0   \n",
              "\n",
              "                           Location                          Book-Title  \\\n",
              "0  sackville, new brunswick, canada                          Road Taken   \n",
              "1  sackville, new brunswick, canada   Macbeth (New Penguin Shakespeare)   \n",
              "2  sackville, new brunswick, canada  Waverley (Penguin English Library)   \n",
              "\n",
              "           Book-Author  Year-Of-Publication      Publisher  \n",
              "0           Rona Jaffe               2001.0           Mira  \n",
              "1  William Shakespeare               1981.0  Penguin Books  \n",
              "2         Walter Scott               1981.0  Penguin Books  "
            ],
            "text/html": [
              "\n",
              "  <div id=\"df-341898bf-90e2-4060-a213-e938e063e548\">\n",
              "    <div class=\"colab-df-container\">\n",
              "      <div>\n",
              "<style scoped>\n",
              "    .dataframe tbody tr th:only-of-type {\n",
              "        vertical-align: middle;\n",
              "    }\n",
              "\n",
              "    .dataframe tbody tr th {\n",
              "        vertical-align: top;\n",
              "    }\n",
              "\n",
              "    .dataframe thead th {\n",
              "        text-align: right;\n",
              "    }\n",
              "</style>\n",
              "<table border=\"1\" class=\"dataframe\">\n",
              "  <thead>\n",
              "    <tr style=\"text-align: right;\">\n",
              "      <th></th>\n",
              "      <th>ID</th>\n",
              "      <th>User-ID</th>\n",
              "      <th>Book-ID</th>\n",
              "      <th>Book-Rating</th>\n",
              "      <th>Age</th>\n",
              "      <th>Location</th>\n",
              "      <th>Book-Title</th>\n",
              "      <th>Book-Author</th>\n",
              "      <th>Year-Of-Publication</th>\n",
              "      <th>Publisher</th>\n",
              "    </tr>\n",
              "  </thead>\n",
              "  <tbody>\n",
              "    <tr>\n",
              "      <th>0</th>\n",
              "      <td>TRAIN_000000</td>\n",
              "      <td>USER_00000</td>\n",
              "      <td>BOOK_044368</td>\n",
              "      <td>8</td>\n",
              "      <td>23.0</td>\n",
              "      <td>sackville, new brunswick, canada</td>\n",
              "      <td>Road Taken</td>\n",
              "      <td>Rona Jaffe</td>\n",
              "      <td>2001.0</td>\n",
              "      <td>Mira</td>\n",
              "    </tr>\n",
              "    <tr>\n",
              "      <th>1</th>\n",
              "      <td>TRAIN_000001</td>\n",
              "      <td>USER_00000</td>\n",
              "      <td>BOOK_081205</td>\n",
              "      <td>8</td>\n",
              "      <td>23.0</td>\n",
              "      <td>sackville, new brunswick, canada</td>\n",
              "      <td>Macbeth (New Penguin Shakespeare)</td>\n",
              "      <td>William Shakespeare</td>\n",
              "      <td>1981.0</td>\n",
              "      <td>Penguin Books</td>\n",
              "    </tr>\n",
              "    <tr>\n",
              "      <th>2</th>\n",
              "      <td>TRAIN_000002</td>\n",
              "      <td>USER_00000</td>\n",
              "      <td>BOOK_086781</td>\n",
              "      <td>0</td>\n",
              "      <td>23.0</td>\n",
              "      <td>sackville, new brunswick, canada</td>\n",
              "      <td>Waverley (Penguin English Library)</td>\n",
              "      <td>Walter Scott</td>\n",
              "      <td>1981.0</td>\n",
              "      <td>Penguin Books</td>\n",
              "    </tr>\n",
              "  </tbody>\n",
              "</table>\n",
              "</div>\n",
              "      <button class=\"colab-df-convert\" onclick=\"convertToInteractive('df-341898bf-90e2-4060-a213-e938e063e548')\"\n",
              "              title=\"Convert this dataframe to an interactive table.\"\n",
              "              style=\"display:none;\">\n",
              "        \n",
              "  <svg xmlns=\"http://www.w3.org/2000/svg\" height=\"24px\"viewBox=\"0 0 24 24\"\n",
              "       width=\"24px\">\n",
              "    <path d=\"M0 0h24v24H0V0z\" fill=\"none\"/>\n",
              "    <path d=\"M18.56 5.44l.94 2.06.94-2.06 2.06-.94-2.06-.94-.94-2.06-.94 2.06-2.06.94zm-11 1L8.5 8.5l.94-2.06 2.06-.94-2.06-.94L8.5 2.5l-.94 2.06-2.06.94zm10 10l.94 2.06.94-2.06 2.06-.94-2.06-.94-.94-2.06-.94 2.06-2.06.94z\"/><path d=\"M17.41 7.96l-1.37-1.37c-.4-.4-.92-.59-1.43-.59-.52 0-1.04.2-1.43.59L10.3 9.45l-7.72 7.72c-.78.78-.78 2.05 0 2.83L4 21.41c.39.39.9.59 1.41.59.51 0 1.02-.2 1.41-.59l7.78-7.78 2.81-2.81c.8-.78.8-2.07 0-2.86zM5.41 20L4 18.59l7.72-7.72 1.47 1.35L5.41 20z\"/>\n",
              "  </svg>\n",
              "      </button>\n",
              "      \n",
              "  <style>\n",
              "    .colab-df-container {\n",
              "      display:flex;\n",
              "      flex-wrap:wrap;\n",
              "      gap: 12px;\n",
              "    }\n",
              "\n",
              "    .colab-df-convert {\n",
              "      background-color: #E8F0FE;\n",
              "      border: none;\n",
              "      border-radius: 50%;\n",
              "      cursor: pointer;\n",
              "      display: none;\n",
              "      fill: #1967D2;\n",
              "      height: 32px;\n",
              "      padding: 0 0 0 0;\n",
              "      width: 32px;\n",
              "    }\n",
              "\n",
              "    .colab-df-convert:hover {\n",
              "      background-color: #E2EBFA;\n",
              "      box-shadow: 0px 1px 2px rgba(60, 64, 67, 0.3), 0px 1px 3px 1px rgba(60, 64, 67, 0.15);\n",
              "      fill: #174EA6;\n",
              "    }\n",
              "\n",
              "    [theme=dark] .colab-df-convert {\n",
              "      background-color: #3B4455;\n",
              "      fill: #D2E3FC;\n",
              "    }\n",
              "\n",
              "    [theme=dark] .colab-df-convert:hover {\n",
              "      background-color: #434B5C;\n",
              "      box-shadow: 0px 1px 3px 1px rgba(0, 0, 0, 0.15);\n",
              "      filter: drop-shadow(0px 1px 2px rgba(0, 0, 0, 0.3));\n",
              "      fill: #FFFFFF;\n",
              "    }\n",
              "  </style>\n",
              "\n",
              "      <script>\n",
              "        const buttonEl =\n",
              "          document.querySelector('#df-341898bf-90e2-4060-a213-e938e063e548 button.colab-df-convert');\n",
              "        buttonEl.style.display =\n",
              "          google.colab.kernel.accessAllowed ? 'block' : 'none';\n",
              "\n",
              "        async function convertToInteractive(key) {\n",
              "          const element = document.querySelector('#df-341898bf-90e2-4060-a213-e938e063e548');\n",
              "          const dataTable =\n",
              "            await google.colab.kernel.invokeFunction('convertToInteractive',\n",
              "                                                     [key], {});\n",
              "          if (!dataTable) return;\n",
              "\n",
              "          const docLinkHtml = 'Like what you see? Visit the ' +\n",
              "            '<a target=\"_blank\" href=https://colab.research.google.com/notebooks/data_table.ipynb>data table notebook</a>'\n",
              "            + ' to learn more about interactive tables.';\n",
              "          element.innerHTML = '';\n",
              "          dataTable['output_type'] = 'display_data';\n",
              "          await google.colab.output.renderOutput(dataTable, element);\n",
              "          const docLink = document.createElement('div');\n",
              "          docLink.innerHTML = docLinkHtml;\n",
              "          element.appendChild(docLink);\n",
              "        }\n",
              "      </script>\n",
              "    </div>\n",
              "  </div>\n",
              "  "
            ]
          },
          "metadata": {},
          "execution_count": 7
        }
      ]
    },
    {
      "cell_type": "markdown",
      "source": [
        "## 전처리"
      ],
      "metadata": {
        "id": "4m4e5dsR__yB"
      }
    },
    {
      "cell_type": "code",
      "source": [
        "# preprocessing location\n",
        "replaced_loc = {\n",
        "    'spain': ['españa', 'catalunya spain'],\n",
        "    'united states': ['united sates', 'usa (currently living in england)', 'los estados unidos de norte america', 'u.s.a.', 'us', 'united state',\n",
        "                      'disgruntled states of america', 'u.s. of a.', 'u.s>', 'america', 'usa'],\n",
        "    'u.a.e': ['united arab emirates'],\n",
        "    'u.k.': ['united kindgonm', 'united kingdom', 'wales', 'england','scotland', 'uk'],\n",
        "    'italia': ['l`italia'],\n",
        "    'unknown': ['petrolwar nation', 'the world tomorrow', 'la chine éternelle!', 'la chine éternelle !', 'n/a', 'polk', 'pender',\n",
        "                'we`re global!', 'n/a - on the road', 'the great white north', 'rutherford', 'here and there', 'k1c7b1', 'quit',\n",
        "                'everywhere and anywhere', 'far away...', 'ee.uu', '']\n",
        "}\n",
        "\n",
        "z = df['Location'].apply(lambda x: x.split(','))\n",
        "\n",
        "# 공백 제거\n",
        "s = []\n",
        "for l in z:\n",
        "  ss = []\n",
        "  for i in l:\n",
        "    i = i.strip()\n",
        "    ss.append(i)\n",
        "  s.append(ss)\n",
        "\n",
        "# 지역명 전처리\n",
        "for i in range(len(s)):\n",
        "  for nation in replaced_loc.keys():\n",
        "    for name in replaced_loc[nation]:\n",
        "      if s[i][-1] == name:\n",
        "        s[i][-1] = name\n",
        "        break\n",
        "\n",
        "df['Location'] = s"
      ],
      "metadata": {
        "id": "B0-14t1wJ433"
      },
      "execution_count": null,
      "outputs": []
    },
    {
      "cell_type": "code",
      "source": [
        "# 지역 임베딩\n",
        "loc_vector = Word2Vec(sentences=s, vector_size=5, window=2, epochs=50, min_count=1, workers=1, seed=42)\n",
        "\n",
        "def location_vectorizer(address:list) -> list:\n",
        "  result = []\n",
        "  for i in tqdm(range(len(address))):\n",
        "    loc_vector.random.seed(42)\n",
        "    _ = loc_vector.wv[address[i]].mean(axis=0)\n",
        "    result.append(list(_))\n",
        "  return result\n",
        "\n",
        "s_ = location_vectorizer(s)\n",
        "df['Location'] = s_"
      ],
      "metadata": {
        "id": "4tq-FFwfUn9v",
        "colab": {
          "base_uri": "https://localhost:8080/"
        },
        "outputId": "b6a3e62c-fa1d-4e7e-d5e4-b04077d6eba9"
      },
      "execution_count": null,
      "outputs": [
        {
          "output_type": "stream",
          "name": "stderr",
          "text": [
            "100%|██████████| 871393/871393 [00:35<00:00, 24376.40it/s]\n"
          ]
        }
      ]
    },
    {
      "cell_type": "code",
      "source": [
        "# 나이 전처리\n",
        "df['Age'] = df['Age'].apply(lambda x: 8 if x <= 8 else x)\n",
        "df['Age'] = df['Age'].apply(lambda x: 80 if x >= 80 else x)"
      ],
      "metadata": {
        "id": "ElFWApY_MmSG"
      },
      "execution_count": null,
      "outputs": []
    },
    {
      "cell_type": "code",
      "source": [
        "# 출판년도 전처리\n",
        "m = df['Year-Of-Publication'].median()\n",
        "df['Year-Of-Publication'] = df['Year-Of-Publication'].apply(lambda x: m if x==-1 else x)"
      ],
      "metadata": {
        "id": "RlYLBApmOizl"
      },
      "execution_count": null,
      "outputs": []
    },
    {
      "cell_type": "markdown",
      "source": [
        "## 모델 학습"
      ],
      "metadata": {
        "id": "BTxqhLyq7FWt"
      }
    },
    {
      "cell_type": "code",
      "source": [
        "df_x = df[['User-ID',\t'Book-ID', 'Age',\t'Location', 'Book-Author', 'Year-Of-Publication', 'Publisher']].copy()\n",
        "df_y = df[['Book-Rating']].copy()\n",
        "train_x, val_x, train_y, val_y = train_test_split(df_x, df_y, test_size=0.2, random_state=42)\n",
        "\n",
        "cat_features = ['User-ID',\t'Book-ID',\t'Book-Author', 'Publisher']\n",
        "embedding_features = ['Location']\n",
        "train_data = Pool(data=train_x, label=train_y, cat_features=cat_features, embedding_features=embedding_features)\n",
        "val_data = Pool(data=val_x, label=val_y, cat_features=cat_features, embedding_features=embedding_features)"
      ],
      "metadata": {
        "id": "breqKOvfRwiG"
      },
      "execution_count": null,
      "outputs": []
    },
    {
      "cell_type": "code",
      "source": [
        "model = CatBoostRegressor(iterations=1000, loss_function='RMSE', random_seed=42, verbose=100)\n",
        "model.fit(train_data)"
      ],
      "metadata": {
        "id": "HKxfXIecTVad",
        "colab": {
          "base_uri": "https://localhost:8080/"
        },
        "outputId": "6080a293-a3fd-4d48-c74a-09190a9a60d8"
      },
      "execution_count": null,
      "outputs": [
        {
          "output_type": "stream",
          "name": "stdout",
          "text": [
            "Learning rate set to 0.115192\n",
            "0:\tlearn: 3.7613978\ttotal: 506ms\tremaining: 8m 25s\n",
            "100:\tlearn: 3.3481737\ttotal: 44.6s\tremaining: 6m 36s\n",
            "200:\tlearn: 3.3389504\ttotal: 1m 36s\tremaining: 6m 23s\n",
            "300:\tlearn: 3.3330774\ttotal: 2m 27s\tremaining: 5m 43s\n",
            "400:\tlearn: 3.3291805\ttotal: 3m 23s\tremaining: 5m 3s\n",
            "500:\tlearn: 3.3257595\ttotal: 4m 17s\tremaining: 4m 16s\n",
            "600:\tlearn: 3.3230068\ttotal: 5m 7s\tremaining: 3m 24s\n",
            "700:\tlearn: 3.3204006\ttotal: 5m 58s\tremaining: 2m 32s\n",
            "800:\tlearn: 3.3178939\ttotal: 6m 53s\tremaining: 1m 42s\n",
            "900:\tlearn: 3.3154887\ttotal: 7m 42s\tremaining: 50.9s\n",
            "999:\tlearn: 3.3133592\ttotal: 8m 37s\tremaining: 0us\n"
          ]
        },
        {
          "output_type": "execute_result",
          "data": {
            "text/plain": [
              "<catboost.core.CatBoostRegressor at 0x7f4c1dd56050>"
            ]
          },
          "metadata": {},
          "execution_count": 77
        }
      ]
    },
    {
      "cell_type": "code",
      "source": [
        "approximate = model.get_feature_importance(train_data, type=\"ShapValues\", shap_calc_type=\"Exact\")[:, :-1]\n",
        "shap.summary_plot(approximate, train_x, plot_type=\"bar\")"
      ],
      "metadata": {
        "colab": {
          "base_uri": "https://localhost:8080/",
          "height": 437
        },
        "id": "ik3DuxP8J66R",
        "outputId": "69947d17-41c1-41ee-9aa9-105e588d78b4"
      },
      "execution_count": null,
      "outputs": [
        {
          "output_type": "display_data",
          "data": {
            "text/plain": [
              "<Figure size 800x430 with 1 Axes>"
            ],
            "image/png": "[encoded data removed]"
          },
          "metadata": {}
        }
      ]
    },
    {
      "cell_type": "code",
      "source": [
        "from sklearn.metrics import mean_squared_error\n",
        "preds = model.predict(val_data)\n",
        "mean_squared_error(val_y, preds, squared=False)"
      ],
      "metadata": {
        "colab": {
          "base_uri": "https://localhost:8080/"
        },
        "id": "vTqVhCgaJ9gV",
        "outputId": "7c362d2b-f3d5-4720-cd9d-eb5b560bf01c"
      },
      "execution_count": null,
      "outputs": [
        {
          "output_type": "execute_result",
          "data": {
            "text/plain": [
              "3.270563203765178"
            ]
          },
          "metadata": {},
          "execution_count": 79
        }
      ]
    },
    {
      "cell_type": "markdown",
      "source": [
        "## 추론"
      ],
      "metadata": {
        "id": "gfpGJWX8NbBY"
      }
    },
    {
      "cell_type": "code",
      "source": [
        "testdf = pd.read_csv(PATH+'/test.csv', encoding='UTF-8')"
      ],
      "metadata": {
        "id": "QHqKcN4_uxT-"
      },
      "execution_count": null,
      "outputs": []
    },
    {
      "cell_type": "code",
      "source": [
        "z = testdf['Location'].apply(lambda x: x.split(','))\n",
        "\n",
        "# 공백 제거\n",
        "s = []\n",
        "for l in z:\n",
        "  ss = []\n",
        "  for i in l:\n",
        "    i = i.strip()\n",
        "    ss.append(i)\n",
        "  s.append(ss)\n",
        "\n",
        "# 지역명 전처리\n",
        "for i in range(len(s)):\n",
        "  for j in range(len(s[i])):\n",
        "    if s[i][j] in loc_vector.wv.key_to_index.keys():\n",
        "      pass\n",
        "    else:\n",
        "      s[i][j] = 'unknown'\n",
        "\n",
        "for i in range(len(s)):\n",
        "  for nation in replaced_loc.keys():\n",
        "    for name in replaced_loc[nation]:\n",
        "      if s[i][-1] == name:\n",
        "        s[i][-1] = name\n",
        "        break\n",
        "\n",
        "testdf['Location'] = location_vectorizer(s)"
      ],
      "metadata": {
        "id": "YyDqpxV8wlx7",
        "colab": {
          "base_uri": "https://localhost:8080/"
        },
        "outputId": "1b40eed0-3ac5-48d4-eeee-d88bc779e503"
      },
      "execution_count": null,
      "outputs": [
        {
          "output_type": "stream",
          "name": "stderr",
          "text": [
            "100%|██████████| 159621/159621 [00:05<00:00, 26714.74it/s]\n"
          ]
        }
      ]
    },
    {
      "cell_type": "code",
      "source": [
        "# 나이 전처리\n",
        "testdf['Age'] = testdf['Age'].apply(lambda x: 8 if x <= 8 else x)\n",
        "testdf['Age'] = testdf['Age'].apply(lambda x: 80 if x >= 80 else x)"
      ],
      "metadata": {
        "id": "5ipqHjCEyJLP"
      },
      "execution_count": null,
      "outputs": []
    },
    {
      "cell_type": "code",
      "source": [
        "# 출판년도 전처리\n",
        "testdf['Year-Of-Publication'] = testdf['Year-Of-Publication'].apply(lambda x: m if x==-1 else x)"
      ],
      "metadata": {
        "id": "BP78BbxWyJLP"
      },
      "execution_count": null,
      "outputs": []
    },
    {
      "cell_type": "code",
      "source": [
        "testdf = testdf[['User-ID',\t'Book-ID', 'Age',\t'Location', 'Book-Author',\t'Year-Of-Publication',\t'Publisher']].copy()\n",
        "cat_features = ['User-ID',\t'Book-ID',\t'Book-Author', 'Publisher']\n",
        "embedding_features = ['Location']\n",
        "\n",
        "test_data = Pool(data=testdf, cat_features=cat_features, embedding_features=embedding_features)"
      ],
      "metadata": {
        "id": "LaXXCBwCyJLQ"
      },
      "execution_count": null,
      "outputs": []
    },
    {
      "cell_type": "code",
      "source": [
        "preds = model.predict(test_data)"
      ],
      "metadata": {
        "id": "mOy-CZ-hyeQr"
      },
      "execution_count": null,
      "outputs": []
    },
    {
      "cell_type": "code",
      "source": [
        "sam = pd.read_csv(PATH+'/sample_submission.csv', encoding='UTF-8')\n",
        "sam['Book-Rating'] = preds\n",
        "sam.to_csv(PATH+'/catboost_v2.csv', encoding='UTF-8', index=False)"
      ],
      "metadata": {
        "id": "Tvu2hzmryi_K"
      },
      "execution_count": null,
      "outputs": []
    },
    {
      "cell_type": "code",
      "source": [
        "model.save_model(PATH+'/catboost_v2.cbm',format='cbm')"
      ],
      "metadata": {
        "id": "mLS6xrDf0xqk"
      },
      "execution_count": null,
      "outputs": []
    }
  ]
}