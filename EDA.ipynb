{
  "cells": [
    {
      "cell_type": "code",
      "source": [
        "from google.colab import drive\n",
        "drive.mount('/content/drive')"
      ],
      "metadata": {
        "colab": {
          "base_uri": "https://localhost:8080/"
        },
        "id": "-xmzt6--4HhJ",
        "outputId": "ba7abac5-df36-43b1-d9e8-f2e0ade4f671"
      },
      "id": "-xmzt6--4HhJ",
      "execution_count": 1,
      "outputs": [
        {
          "output_type": "stream",
          "name": "stdout",
          "text": [
            "Mounted at /content/drive\n"
          ]
        }
      ]
    },
    {
      "cell_type": "code",
      "execution_count": 2,
      "id": "2531a13b-9589-4f32-ab97-922f798e9719",
      "metadata": {
        "id": "2531a13b-9589-4f32-ab97-922f798e9719"
      },
      "outputs": [],
      "source": [
        "import pandas as pd\n",
        "import matplotlib.pyplot as plt\n",
        "from tqdm import tqdm"
      ]
    },
    {
      "cell_type": "code",
      "source": [
        "PATH = '/content/drive/MyDrive/Pywork/rec_books'"
      ],
      "metadata": {
        "id": "D8DTYr2a4Kbe"
      },
      "id": "D8DTYr2a4Kbe",
      "execution_count": 3,
      "outputs": []
    },
    {
      "cell_type": "code",
      "execution_count": 4,
      "id": "55c565b4-9633-4ad8-a98f-345b4735b34a",
      "metadata": {
        "colab": {
          "base_uri": "https://localhost:8080/",
          "height": 143
        },
        "id": "55c565b4-9633-4ad8-a98f-345b4735b34a",
        "outputId": "09c44daa-0eb3-4d16-bb89-ce4bb9a88d54"
      },
      "outputs": [
        {
          "output_type": "execute_result",
          "data": {
            "text/plain": [
              "             ID     User-ID      Book-ID  Book-Rating   Age  \\\n",
              "0  TRAIN_000000  USER_00000  BOOK_044368            8  23.0   \n",
              "1  TRAIN_000001  USER_00000  BOOK_081205            8  23.0   \n",
              "2  TRAIN_000002  USER_00000  BOOK_086781            0  23.0   \n",
              "\n",
              "                           Location                          Book-Title  \\\n",
              "0  sackville, new brunswick, canada                          Road Taken   \n",
              "1  sackville, new brunswick, canada   Macbeth (New Penguin Shakespeare)   \n",
              "2  sackville, new brunswick, canada  Waverley (Penguin English Library)   \n",
              "\n",
              "           Book-Author  Year-Of-Publication      Publisher  \n",
              "0           Rona Jaffe               2001.0           Mira  \n",
              "1  William Shakespeare               1981.0  Penguin Books  \n",
              "2         Walter Scott               1981.0  Penguin Books  "
            ],
            "text/html": [
              "\n",
              "  <div id=\"df-7a1e87ff-4fef-4cb0-a23f-f98446f67496\">\n",
              "    <div class=\"colab-df-container\">\n",
              "      <div>\n",
              "<style scoped>\n",
              "    .dataframe tbody tr th:only-of-type {\n",
              "        vertical-align: middle;\n",
              "    }\n",
              "\n",
              "    .dataframe tbody tr th {\n",
              "        vertical-align: top;\n",
              "    }\n",
              "\n",
              "    .dataframe thead th {\n",
              "        text-align: right;\n",
              "    }\n",
              "</style>\n",
              "<table border=\"1\" class=\"dataframe\">\n",
              "  <thead>\n",
              "    <tr style=\"text-align: right;\">\n",
              "      <th></th>\n",
              "      <th>ID</th>\n",
              "      <th>User-ID</th>\n",
              "      <th>Book-ID</th>\n",
              "      <th>Book-Rating</th>\n",
              "      <th>Age</th>\n",
              "      <th>Location</th>\n",
              "      <th>Book-Title</th>\n",
              "      <th>Book-Author</th>\n",
              "      <th>Year-Of-Publication</th>\n",
              "      <th>Publisher</th>\n",
              "    </tr>\n",
              "  </thead>\n",
              "  <tbody>\n",
              "    <tr>\n",
              "      <th>0</th>\n",
              "      <td>TRAIN_000000</td>\n",
              "      <td>USER_00000</td>\n",
              "      <td>BOOK_044368</td>\n",
              "      <td>8</td>\n",
              "      <td>23.0</td>\n",
              "      <td>sackville, new brunswick, canada</td>\n",
              "      <td>Road Taken</td>\n",
              "      <td>Rona Jaffe</td>\n",
              "      <td>2001.0</td>\n",
              "      <td>Mira</td>\n",
              "    </tr>\n",
              "    <tr>\n",
              "      <th>1</th>\n",
              "      <td>TRAIN_000001</td>\n",
              "      <td>USER_00000</td>\n",
              "      <td>BOOK_081205</td>\n",
              "      <td>8</td>\n",
              "      <td>23.0</td>\n",
              "      <td>sackville, new brunswick, canada</td>\n",
              "      <td>Macbeth (New Penguin Shakespeare)</td>\n",
              "      <td>William Shakespeare</td>\n",
              "      <td>1981.0</td>\n",
              "      <td>Penguin Books</td>\n",
              "    </tr>\n",
              "    <tr>\n",
              "      <th>2</th>\n",
              "      <td>TRAIN_000002</td>\n",
              "      <td>USER_00000</td>\n",
              "      <td>BOOK_086781</td>\n",
              "      <td>0</td>\n",
              "      <td>23.0</td>\n",
              "      <td>sackville, new brunswick, canada</td>\n",
              "      <td>Waverley (Penguin English Library)</td>\n",
              "      <td>Walter Scott</td>\n",
              "      <td>1981.0</td>\n",
              "      <td>Penguin Books</td>\n",
              "    </tr>\n",
              "  </tbody>\n",
              "</table>\n",
              "</div>\n",
              "      <button class=\"colab-df-convert\" onclick=\"convertToInteractive('df-7a1e87ff-4fef-4cb0-a23f-f98446f67496')\"\n",
              "              title=\"Convert this dataframe to an interactive table.\"\n",
              "              style=\"display:none;\">\n",
              "        \n",
              "  <svg xmlns=\"http://www.w3.org/2000/svg\" height=\"24px\"viewBox=\"0 0 24 24\"\n",
              "       width=\"24px\">\n",
              "    <path d=\"M0 0h24v24H0V0z\" fill=\"none\"/>\n",
              "    <path d=\"M18.56 5.44l.94 2.06.94-2.06 2.06-.94-2.06-.94-.94-2.06-.94 2.06-2.06.94zm-11 1L8.5 8.5l.94-2.06 2.06-.94-2.06-.94L8.5 2.5l-.94 2.06-2.06.94zm10 10l.94 2.06.94-2.06 2.06-.94-2.06-.94-.94-2.06-.94 2.06-2.06.94z\"/><path d=\"M17.41 7.96l-1.37-1.37c-.4-.4-.92-.59-1.43-.59-.52 0-1.04.2-1.43.59L10.3 9.45l-7.72 7.72c-.78.78-.78 2.05 0 2.83L4 21.41c.39.39.9.59 1.41.59.51 0 1.02-.2 1.41-.59l7.78-7.78 2.81-2.81c.8-.78.8-2.07 0-2.86zM5.41 20L4 18.59l7.72-7.72 1.47 1.35L5.41 20z\"/>\n",
              "  </svg>\n",
              "      </button>\n",
              "      \n",
              "  <style>\n",
              "    .colab-df-container {\n",
              "      display:flex;\n",
              "      flex-wrap:wrap;\n",
              "      gap: 12px;\n",
              "    }\n",
              "\n",
              "    .colab-df-convert {\n",
              "      background-color: #E8F0FE;\n",
              "      border: none;\n",
              "      border-radius: 50%;\n",
              "      cursor: pointer;\n",
              "      display: none;\n",
              "      fill: #1967D2;\n",
              "      height: 32px;\n",
              "      padding: 0 0 0 0;\n",
              "      width: 32px;\n",
              "    }\n",
              "\n",
              "    .colab-df-convert:hover {\n",
              "      background-color: #E2EBFA;\n",
              "      box-shadow: 0px 1px 2px rgba(60, 64, 67, 0.3), 0px 1px 3px 1px rgba(60, 64, 67, 0.15);\n",
              "      fill: #174EA6;\n",
              "    }\n",
              "\n",
              "    [theme=dark] .colab-df-convert {\n",
              "      background-color: #3B4455;\n",
              "      fill: #D2E3FC;\n",
              "    }\n",
              "\n",
              "    [theme=dark] .colab-df-convert:hover {\n",
              "      background-color: #434B5C;\n",
              "      box-shadow: 0px 1px 3px 1px rgba(0, 0, 0, 0.15);\n",
              "      filter: drop-shadow(0px 1px 2px rgba(0, 0, 0, 0.3));\n",
              "      fill: #FFFFFF;\n",
              "    }\n",
              "  </style>\n",
              "\n",
              "      <script>\n",
              "        const buttonEl =\n",
              "          document.querySelector('#df-7a1e87ff-4fef-4cb0-a23f-f98446f67496 button.colab-df-convert');\n",
              "        buttonEl.style.display =\n",
              "          google.colab.kernel.accessAllowed ? 'block' : 'none';\n",
              "\n",
              "        async function convertToInteractive(key) {\n",
              "          const element = document.querySelector('#df-7a1e87ff-4fef-4cb0-a23f-f98446f67496');\n",
              "          const dataTable =\n",
              "            await google.colab.kernel.invokeFunction('convertToInteractive',\n",
              "                                                     [key], {});\n",
              "          if (!dataTable) return;\n",
              "\n",
              "          const docLinkHtml = 'Like what you see? Visit the ' +\n",
              "            '<a target=\"_blank\" href=https://colab.research.google.com/notebooks/data_table.ipynb>data table notebook</a>'\n",
              "            + ' to learn more about interactive tables.';\n",
              "          element.innerHTML = '';\n",
              "          dataTable['output_type'] = 'display_data';\n",
              "          await google.colab.output.renderOutput(dataTable, element);\n",
              "          const docLink = document.createElement('div');\n",
              "          docLink.innerHTML = docLinkHtml;\n",
              "          element.appendChild(docLink);\n",
              "        }\n",
              "      </script>\n",
              "    </div>\n",
              "  </div>\n",
              "  "
            ]
          },
          "metadata": {},
          "execution_count": 4
        }
      ],
      "source": [
        "df = pd.read_csv(PATH+'/train.csv')\n",
        "df.head(3)"
      ]
    },
    {
      "cell_type": "markdown",
      "id": "6cc55570-8f5c-4b45-93dc-72db9bcb13fa",
      "metadata": {
        "id": "6cc55570-8f5c-4b45-93dc-72db9bcb13fa"
      },
      "source": [
        "## 1. User-ID"
      ]
    },
    {
      "cell_type": "code",
      "execution_count": 5,
      "id": "8fc359ef-dff2-48ad-a616-13dbaef464da",
      "metadata": {
        "colab": {
          "base_uri": "https://localhost:8080/"
        },
        "id": "8fc359ef-dff2-48ad-a616-13dbaef464da",
        "outputId": "df90d253-bc92-4c6f-f053-b81cdb83eeee"
      },
      "outputs": [
        {
          "output_type": "stream",
          "name": "stdout",
          "text": [
            "A number of Users : 83256\n"
          ]
        }
      ],
      "source": [
        "print(f\"A number of Users : {df['User-ID'].nunique()}\")"
      ]
    },
    {
      "cell_type": "code",
      "execution_count": 6,
      "id": "32b6ff24-e4c3-4f8c-b557-a76e1ac1452b",
      "metadata": {
        "colab": {
          "base_uri": "https://localhost:8080/"
        },
        "id": "32b6ff24-e4c3-4f8c-b557-a76e1ac1452b",
        "outputId": "12910703-f93b-4655-a393-dff734e16de0"
      },
      "outputs": [
        {
          "output_type": "execute_result",
          "data": {
            "text/plain": [
              "USER_56601    11143\n",
              "USER_54845     6456\n",
              "USER_52453     5814\n",
              "USER_73501     4290\n",
              "USER_03411     3453\n",
              "USER_17715     3429\n",
              "USER_06837     3329\n",
              "USER_33706     2971\n",
              "USER_64601     2943\n",
              "USER_72452     2857\n",
              "Name: User-ID, dtype: int64"
            ]
          },
          "metadata": {},
          "execution_count": 6
        }
      ],
      "source": [
        "df['User-ID'].value_counts().sort_values(ascending=False).head(10)"
      ]
    },
    {
      "cell_type": "code",
      "execution_count": 7,
      "id": "0cbd5e81-760d-4be9-866e-edd4108897aa",
      "metadata": {
        "colab": {
          "base_uri": "https://localhost:8080/"
        },
        "id": "0cbd5e81-760d-4be9-866e-edd4108897aa",
        "outputId": "c54389d5-7e78-444a-9575-5f96208323c9"
      },
      "outputs": [
        {
          "output_type": "execute_result",
          "data": {
            "text/plain": [
              "count    83256.000000\n",
              "mean        10.466429\n",
              "std         83.323024\n",
              "min          1.000000\n",
              "25%          1.000000\n",
              "50%          1.000000\n",
              "75%          4.000000\n",
              "max      11143.000000\n",
              "Name: User-ID, dtype: float64"
            ]
          },
          "metadata": {},
          "execution_count": 7
        }
      ],
      "source": [
        "df['User-ID'].value_counts().describe()"
      ]
    },
    {
      "cell_type": "code",
      "execution_count": 8,
      "id": "a11cac67-7e39-493b-9ac3-37eacef6a217",
      "metadata": {
        "colab": {
          "base_uri": "https://localhost:8080/"
        },
        "id": "a11cac67-7e39-493b-9ac3-37eacef6a217",
        "outputId": "237347fd-4351-4668-d210-46053ff7c22f"
      },
      "outputs": [
        {
          "output_type": "execute_result",
          "data": {
            "text/plain": [
              "USER_56601    11143\n",
              "USER_54845     6456\n",
              "USER_52453     5814\n",
              "USER_73501     4290\n",
              "USER_03411     3453\n",
              "              ...  \n",
              "USER_83629        1\n",
              "USER_83628        1\n",
              "USER_69242        1\n",
              "USER_69243        1\n",
              "USER_92100        1\n",
              "Name: User-ID, Length: 83256, dtype: int64"
            ]
          },
          "metadata": {},
          "execution_count": 8
        }
      ],
      "source": [
        "df['User-ID'].value_counts().sort_values(ascending=False)"
      ]
    },
    {
      "cell_type": "code",
      "execution_count": 10,
      "id": "8b011886-2c20-4595-aeeb-11fdaeb3df83",
      "metadata": {
        "colab": {
          "base_uri": "https://localhost:8080/"
        },
        "id": "8b011886-2c20-4595-aeeb-11fdaeb3df83",
        "outputId": "46a4ea0a-36b5-459d-e82a-8463224877e8"
      },
      "outputs": [
        {
          "output_type": "stream",
          "name": "stdout",
          "text": [
            "The ratio of reviewers evaluating more than 1 : 100.0% / 83256\n",
            "The ratio of reviewers evaluating more than 2 : 44.43% / 36988\n",
            "The ratio of reviewers evaluating more than 3 : 32.27% / 26870\n",
            "The ratio of reviewers evaluating more than 4 : 25.75% / 21441\n",
            "The ratio of reviewers evaluating more than 5 : 21.57% / 17958\n",
            "The ratio of reviewers evaluating more than 6 : 18.71% / 15574\n",
            "The ratio of reviewers evaluating more than 7 : 16.54% / 13774\n",
            "The ratio of reviewers evaluating more than 8 : 14.82% / 12338\n",
            "The ratio of reviewers evaluating more than 9 : 13.49% / 11231\n",
            "The ratio of reviewers evaluating more than 10 : 12.365% / 10295\n",
            "The ratio of reviewers evaluating more than 20 : 6.939% / 5777\n",
            "The ratio of reviewers evaluating more than 30 : 4.945% / 4117\n",
            "The ratio of reviewers evaluating more than 40 : 3.863% / 3216\n",
            "The ratio of reviewers evaluating more than 50 : 3.181% / 2648\n",
            "The ratio of reviewers evaluating more than 60 : 2.704% / 2251\n",
            "The ratio of reviewers evaluating more than 70 : 2.367% / 1971\n",
            "The ratio of reviewers evaluating more than 80 : 2.091% / 1741\n",
            "The ratio of reviewers evaluating more than 90 : 1.867% / 1554\n",
            "The ratio of reviewers evaluating more than 100 : 1.6804% / 1399\n",
            "The ratio of reviewers evaluating more than 200 : 0.7939% / 661\n",
            "The ratio of reviewers evaluating more than 300 : 0.478% / 398\n",
            "The ratio of reviewers evaluating more than 400 : 0.3375% / 281\n",
            "The ratio of reviewers evaluating more than 500 : 0.2582% / 215\n",
            "The ratio of reviewers evaluating more than 600 : 0.2078% / 173\n",
            "The ratio of reviewers evaluating more than 700 : 0.1658% / 138\n",
            "The ratio of reviewers evaluating more than 800 : 0.1333% / 111\n",
            "The ratio of reviewers evaluating more than 900 : 0.1117% / 93\n",
            "The ratio of reviewers evaluating more than 1000 : 0.0961% / 80\n"
          ]
        }
      ],
      "source": [
        "reviewerstats = df['User-ID'].value_counts().sort_values(ascending=True)\n",
        "\n",
        "for i in range(1,10):\n",
        "    print(f\"The ratio of reviewers evaluating more than {i} :\\\n",
        " {round(reviewerstats.loc[reviewerstats>=i].count()/df['User-ID'].nunique()*100,2)}% /\\\n",
        " {reviewerstats.loc[reviewerstats>=i].count()}\")\n",
        "for i in range(10,100,10):\n",
        "    print(f\"The ratio of reviewers evaluating more than {i} :\\\n",
        " {round(reviewerstats.loc[reviewerstats>=i].count()/df['User-ID'].nunique()*100,3)}% /\\\n",
        " {reviewerstats.loc[reviewerstats>=i].count()}\")\n",
        "for i in range(100,1001,100):\n",
        "    print(f\"The ratio of reviewers evaluating more than {i} :\\\n",
        " {round(reviewerstats.loc[reviewerstats>=i].count()/df['User-ID'].nunique()*100,4)}% /\\\n",
        " {reviewerstats.loc[reviewerstats>=i].count()}\")"
      ]
    },
    {
      "cell_type": "code",
      "execution_count": 11,
      "id": "e97cb013-040c-4b8a-b40f-3ac811b3c4b0",
      "metadata": {
        "colab": {
          "base_uri": "https://localhost:8080/"
        },
        "id": "e97cb013-040c-4b8a-b40f-3ac811b3c4b0",
        "outputId": "4963778e-ef6d-4065-e22a-562e3fe84036"
      },
      "outputs": [
        {
          "output_type": "stream",
          "name": "stdout",
          "text": [
            "The ratio of reviewers evaluating 1 books : 55.57% / 46268\n",
            "The ratio of reviewers evaluating 2 books : 12.15% / 10118\n",
            "The ratio of reviewers evaluating 3 books : 6.52% / 5429\n",
            "The ratio of reviewers evaluating 4 books : 4.18% / 3483\n",
            "The ratio of reviewers evaluating 5 books : 2.86% / 2384\n",
            "The ratio of reviewers evaluating 6 books : 2.16% / 1800\n",
            "The ratio of reviewers evaluating 7 books : 1.72% / 1436\n",
            "The ratio of reviewers evaluating 8 books : 1.33% / 1107\n",
            "The ratio of reviewers evaluating 9 books : 1.12% / 936\n",
            "--------------------------------------------------------------------------------\n",
            "The ratio of reviewers evaluating 1 - 10 books : 88.63% / 73793\n",
            "The ratio of reviewers evaluating 11 - 20 books : 4.69% / 3908\n",
            "The ratio of reviewers evaluating 21 - 30 books : 1.86% / 1547\n",
            "The ratio of reviewers evaluating 31 - 40 books : 1.04% / 868\n",
            "The ratio of reviewers evaluating 41 - 50 books : 0.64% / 529\n",
            "The ratio of reviewers evaluating 51 - 60 books : 0.48% / 397\n",
            "The ratio of reviewers evaluating 61 - 70 books : 0.32% / 264\n",
            "The ratio of reviewers evaluating 71 - 80 books : 0.27% / 227\n",
            "The ratio of reviewers evaluating 81 - 90 books : 0.23% / 194\n",
            "The ratio of reviewers evaluating 91 - 100 books : 0.17% / 139\n",
            "The ratio of reviewers evaluating 100 - 199 books : 0.89% / 738\n",
            "The ratio of reviewers evaluating 200 - 299 books : 0.32% / 263\n",
            "The ratio of reviewers evaluating 300 - 399 books : 0.14% / 117\n",
            "The ratio of reviewers evaluating 400 - 499 books : 0.08% / 66\n",
            "The ratio of reviewers evaluating 500 - 599 books : 0.05% / 42\n",
            "The ratio of reviewers evaluating 600 - 699 books : 0.04% / 35\n",
            "The ratio of reviewers evaluating 700 - 799 books : 0.03% / 27\n",
            "The ratio of reviewers evaluating 800 - 899 books : 0.02% / 18\n",
            "The ratio of reviewers evaluating 900 - 999 books : 0.02% / 13\n",
            "The ratio of reviewers evaluating more than 1000 : 0.0961% / 80\n"
          ]
        }
      ],
      "source": [
        "reviewerstats = df['User-ID'].value_counts().sort_values(ascending=True)\n",
        "\n",
        "for i in range(1,10):\n",
        "    print(f\"The ratio of reviewers evaluating {i} books :\\\n",
        " {round(reviewerstats.loc[reviewerstats==i].count()/df['User-ID'].nunique()*100,2)}% /\\\n",
        " {reviewerstats.loc[reviewerstats==i].count()}\")\n",
        "print('--------------------------------------------------------------------------------')\n",
        "interval = 10\n",
        "for i in range(1,100,interval):\n",
        "    print(f\"The ratio of reviewers evaluating {i} - {i+interval-1} books :\\\n",
        " {round(reviewerstats.loc[(reviewerstats>=i)&(reviewerstats<(i+interval))].count()/df['User-ID'].nunique()*100,2)}% /\\\n",
        " {reviewerstats.loc[(reviewerstats>=i)&(reviewerstats<(i+interval))].count()}\")\n",
        "\n",
        "interval = 100\n",
        "for i in range(100,1000,interval):\n",
        "    print(f\"The ratio of reviewers evaluating {i} - {i+interval-1} books :\\\n",
        " {round(reviewerstats.loc[(reviewerstats>=i)&(reviewerstats<(i+interval))].count()/df['User-ID'].nunique()*100,2)}% /\\\n",
        " {reviewerstats.loc[(reviewerstats>=i)&(reviewerstats<(i+interval))].count()}\")\n",
        "\n",
        "i = 1000\n",
        "print(f\"The ratio of reviewers evaluating more than {i} :\\\n",
        " {round(reviewerstats.loc[reviewerstats>i].count()/df['User-ID'].nunique()*100,4)}% /\\\n",
        " {reviewerstats.loc[reviewerstats>i].count()}\")"
      ]
    },
    {
      "cell_type": "markdown",
      "id": "006ac6cd-1137-4840-abac-3b1602d89204",
      "metadata": {
        "id": "006ac6cd-1137-4840-abac-3b1602d89204"
      },
      "source": [
        "## 2. Book-ID"
      ]
    },
    {
      "cell_type": "code",
      "execution_count": 12,
      "id": "44b629c4-775f-4c35-9403-886bea7da747",
      "metadata": {
        "colab": {
          "base_uri": "https://localhost:8080/"
        },
        "id": "44b629c4-775f-4c35-9403-886bea7da747",
        "outputId": "1b1fc99a-0871-4cfc-c7a9-4abe0f4382fb"
      },
      "outputs": [
        {
          "output_type": "stream",
          "name": "stdout",
          "text": [
            "A number of Books : 243441\n"
          ]
        }
      ],
      "source": [
        "print(f\"A number of Books : {df['Book-ID'].nunique()}\")"
      ]
    },
    {
      "cell_type": "code",
      "execution_count": 13,
      "id": "131358ce-e11a-4cea-b7b5-e4f6255abc69",
      "metadata": {
        "colab": {
          "base_uri": "https://localhost:8080/"
        },
        "id": "131358ce-e11a-4cea-b7b5-e4f6255abc69",
        "outputId": "29c13eb7-6165-4982-b709-bb6e754df70f"
      },
      "outputs": [
        {
          "output_type": "execute_result",
          "data": {
            "text/plain": [
              "BOOK_097861    2502\n",
              "BOOK_050555     883\n",
              "BOOK_114855     768\n",
              "BOOK_206174     732\n",
              "BOOK_084346     723\n",
              "BOOK_176344     647\n",
              "BOOK_163526     615\n",
              "BOOK_077238     586\n",
              "BOOK_261787     585\n",
              "BOOK_152477     552\n",
              "Name: Book-ID, dtype: int64"
            ]
          },
          "metadata": {},
          "execution_count": 13
        }
      ],
      "source": [
        "df['Book-ID'].value_counts().sort_values(ascending=False).head(10)"
      ]
    },
    {
      "cell_type": "code",
      "execution_count": 15,
      "id": "9b27a28c-64ad-4bcc-afd3-3f1d1d9edea2",
      "metadata": {
        "colab": {
          "base_uri": "https://localhost:8080/"
        },
        "id": "9b27a28c-64ad-4bcc-afd3-3f1d1d9edea2",
        "outputId": "2e414538-5863-4048-f840-51a7d62ec43d"
      },
      "outputs": [
        {
          "output_type": "execute_result",
          "data": {
            "text/plain": [
              "BOOK_097861    2502\n",
              "BOOK_050555     883\n",
              "BOOK_114855     768\n",
              "BOOK_206174     732\n",
              "BOOK_084346     723\n",
              "               ... \n",
              "BOOK_120021       1\n",
              "BOOK_119999       1\n",
              "BOOK_119252       1\n",
              "BOOK_118917       1\n",
              "BOOK_130798       1\n",
              "Name: Book-ID, Length: 243441, dtype: int64"
            ]
          },
          "metadata": {},
          "execution_count": 15
        }
      ],
      "source": [
        "df['Book-ID'].value_counts().sort_values(ascending=False)"
      ]
    },
    {
      "cell_type": "code",
      "execution_count": 16,
      "id": "2d50881e-eef6-4321-aa7e-888006da5d20",
      "metadata": {
        "colab": {
          "base_uri": "https://localhost:8080/"
        },
        "id": "2d50881e-eef6-4321-aa7e-888006da5d20",
        "outputId": "0ead8d4f-f679-4a5e-e71a-d0023417e52b"
      },
      "outputs": [
        {
          "output_type": "stream",
          "name": "stdout",
          "text": [
            "The ratio of books evaluated by more than 1: 100.0% / 243441\n",
            "The ratio of books evaluated by more than 2: 44.42% / 108146\n",
            "The ratio of books evaluated by more than 3: 26.68% / 64957\n",
            "The ratio of books evaluated by more than 4: 18.59% / 45255\n",
            "The ratio of books evaluated by more than 5: 14.11% / 34353\n",
            "The ratio of books evaluated by more than 6: 11.23% / 27342\n",
            "The ratio of books evaluated by more than 7: 9.3% / 22640\n",
            "The ratio of books evaluated by more than 8: 7.83% / 19061\n",
            "The ratio of books evaluated by more than 9: 6.77% / 16493\n",
            "The ratio of books evaluated by more than 10: 5.93% / 14424\n",
            "The ratio of books evaluated by more than 20: 2.45% / 5973\n",
            "The ratio of books evaluated by more than 30: 1.43% / 3483\n",
            "The ratio of books evaluated by more than 40: 0.96% / 2340\n",
            "The ratio of books evaluated by more than 50: 0.7% / 1707\n",
            "The ratio of books evaluated by more than 60: 0.53% / 1286\n",
            "The ratio of books evaluated by more than 70: 0.41% / 994\n",
            "The ratio of books evaluated by more than 80: 0.33% / 806\n",
            "The ratio of books evaluated by more than 90: 0.28% / 686\n",
            "The ratio of books evaluated by more than 100: 0.23% / 567\n",
            "The ratio of books evaluated by more than 200: 0.06% / 152\n",
            "The ratio of books evaluated by more than 300: 0.02% / 57\n",
            "The ratio of books evaluated by more than 400: 0.01% / 26\n",
            "The ratio of books evaluated by more than 500: 0.01% / 14\n",
            "The ratio of books evaluated by more than 600: 0.0% / 7\n",
            "The ratio of books evaluated by more than 700: 0.0% / 5\n",
            "The ratio of books evaluated by more than 800: 0.0% / 2\n",
            "The ratio of books evaluated by more than 900: 0.0% / 1\n",
            "The ratio of books evaluated by more than 1000: 0.0% / 1\n"
          ]
        }
      ],
      "source": [
        "bookstats = df['Book-ID'].value_counts().sort_values(ascending=True)\n",
        "\n",
        "for i in range(1,10):\n",
        "    print(f\"The ratio of books evaluated by more than {i}:\\\n",
        " {round(bookstats.loc[bookstats>=i].count()/df['Book-ID'].nunique()*100,2)}% /\\\n",
        " {bookstats.loc[bookstats>=i].count()}\")\n",
        "for i in range(10,100,10):\n",
        "    print(f\"The ratio of books evaluated by more than {i}:\\\n",
        " {round(bookstats.loc[bookstats>=i].count()/df['Book-ID'].nunique()*100,2)}% /\\\n",
        " {bookstats.loc[bookstats>=i].count()}\")\n",
        "for i in range(100,1001,100):\n",
        "    print(f\"The ratio of books evaluated by more than {i}:\\\n",
        " {round(bookstats.loc[bookstats>=i].count()/df['Book-ID'].nunique()*100,2)}% /\\\n",
        " {bookstats.loc[bookstats>=i].count()}\")"
      ]
    },
    {
      "cell_type": "code",
      "execution_count": 17,
      "id": "32aed858-e52e-4074-bae4-ca8901daf671",
      "metadata": {
        "colab": {
          "base_uri": "https://localhost:8080/"
        },
        "id": "32aed858-e52e-4074-bae4-ca8901daf671",
        "outputId": "98d55d90-8a39-407c-9651-211762b0c0fd"
      },
      "outputs": [
        {
          "output_type": "stream",
          "name": "stdout",
          "text": [
            "The ratio of books evaluated by 1 users : 55.58% / 135295\n",
            "The ratio of books evaluated by 2 users : 17.74% / 43189\n",
            "The ratio of books evaluated by 3 users : 8.09% / 19702\n",
            "The ratio of books evaluated by 4 users : 4.48% / 10902\n",
            "The ratio of books evaluated by 5 users : 2.88% / 7011\n",
            "The ratio of books evaluated by 6 users : 1.93% / 4702\n",
            "The ratio of books evaluated by 7 users : 1.47% / 3579\n",
            "The ratio of books evaluated by 8 users : 1.05% / 2568\n",
            "The ratio of books evaluated by 9 users : 0.85% / 2069\n",
            "--------------------------------------------------------------------------------\n",
            "The ratio of reviewers evaluating 1 - 10 books : 94.74% / 230645\n",
            "The ratio of reviewers evaluating 11 - 20 books : 2.95% / 7171\n",
            "The ratio of reviewers evaluating 21 - 30 books : 0.95% / 2313\n",
            "The ratio of reviewers evaluating 31 - 40 books : 0.43% / 1045\n",
            "The ratio of reviewers evaluating 41 - 50 books : 0.25% / 613\n",
            "The ratio of reviewers evaluating 51 - 60 books : 0.16% / 395\n",
            "The ratio of reviewers evaluating 61 - 70 books : 0.12% / 283\n",
            "The ratio of reviewers evaluating 71 - 80 books : 0.08% / 185\n",
            "The ratio of reviewers evaluating 81 - 90 books : 0.05% / 118\n",
            "The ratio of reviewers evaluating 91 - 100 books : 0.05% / 114\n",
            "The ratio of reviewers evaluating 100 - 199 books : 0.17% / 415\n",
            "The ratio of reviewers evaluating 200 - 299 books : 0.04% / 95\n",
            "The ratio of reviewers evaluating 300 - 399 books : 0.01% / 31\n",
            "The ratio of reviewers evaluating 400 - 499 books : 0.0% / 12\n",
            "The ratio of reviewers evaluating 500 - 599 books : 0.0% / 7\n",
            "The ratio of reviewers evaluating 600 - 699 books : 0.0% / 2\n",
            "The ratio of reviewers evaluating 700 - 799 books : 0.0% / 3\n",
            "The ratio of reviewers evaluating 800 - 899 books : 0.0% / 1\n",
            "The ratio of reviewers evaluating 900 - 999 books : 0.0% / 0\n",
            "The ratio of reviewers evaluating more than 1000 : 0.0004% / 1\n"
          ]
        }
      ],
      "source": [
        "for i in range(1,10):\n",
        "    print(f\"The ratio of books evaluated by {i} users :\\\n",
        " {round(bookstats.loc[bookstats==i].count()/df['Book-ID'].nunique()*100,2)}% /\\\n",
        " {bookstats.loc[bookstats==i].count()}\")\n",
        "print('--------------------------------------------------------------------------------')\n",
        "interval = 10\n",
        "for i in range(1,100,interval):\n",
        "    print(f\"The ratio of reviewers evaluating {i} - {i+interval-1} books :\\\n",
        " {round(bookstats.loc[(bookstats>=i)&(bookstats<(i+interval))].count()/df['Book-ID'].nunique()*100,2)}% /\\\n",
        " {bookstats.loc[(bookstats>=i)&(bookstats<(i+interval))].count()}\")\n",
        "\n",
        "interval = 100\n",
        "for i in range(100,1000,interval):\n",
        "    print(f\"The ratio of reviewers evaluating {i} - {i+interval-1} books :\\\n",
        " {round(bookstats.loc[(bookstats>=i)&(bookstats<(i+interval))].count()/df['Book-ID'].nunique()*100,2)}% /\\\n",
        " {bookstats.loc[(bookstats>=i)&(bookstats<(i+interval))].count()}\")\n",
        "\n",
        "i = 1000\n",
        "print(f\"The ratio of reviewers evaluating more than {i} :\\\n",
        " {round(bookstats.loc[bookstats>i].count()/df['Book-ID'].nunique()*100,4)}% /\\\n",
        " {bookstats.loc[bookstats>i].count()}\")"
      ]
    },
    {
      "cell_type": "markdown",
      "id": "3c5e9c4d-58dd-4d70-b02a-c342c6fd9e0f",
      "metadata": {
        "id": "3c5e9c4d-58dd-4d70-b02a-c342c6fd9e0f"
      },
      "source": [
        "### 3. Book-Rating"
      ]
    },
    {
      "cell_type": "code",
      "execution_count": 18,
      "id": "5eb2e4a0-403a-43f7-97a4-5f606411056e",
      "metadata": {
        "colab": {
          "base_uri": "https://localhost:8080/",
          "height": 451
        },
        "id": "5eb2e4a0-403a-43f7-97a4-5f606411056e",
        "outputId": "3a935f28-94a2-4c6b-e8c1-ef28af9874e9"
      },
      "outputs": [
        {
          "output_type": "execute_result",
          "data": {
            "text/plain": [
              "<Axes: >"
            ]
          },
          "metadata": {},
          "execution_count": 18
        },
        {
          "output_type": "display_data",
          "data": {
            "text/plain": [
              "<Figure size 640x480 with 1 Axes>"
            ],
            "image/png": "[encoded data removed]"
          },
          "metadata": {}
        }
      ],
      "source": [
        "df['Book-Rating'].value_counts().sort_index().plot(kind='bar')"
      ]
    },
    {
      "cell_type": "code",
      "execution_count": 19,
      "id": "f0463694-97b7-4c72-84ae-898bdd8ea29b",
      "metadata": {
        "colab": {
          "base_uri": "https://localhost:8080/",
          "height": 453
        },
        "id": "f0463694-97b7-4c72-84ae-898bdd8ea29b",
        "outputId": "a6bacac7-32aa-4885-9bf7-504db87b4637"
      },
      "outputs": [
        {
          "output_type": "execute_result",
          "data": {
            "text/plain": [
              "<Axes: >"
            ]
          },
          "metadata": {},
          "execution_count": 19
        },
        {
          "output_type": "display_data",
          "data": {
            "text/plain": [
              "<Figure size 640x480 with 1 Axes>"
            ],
            "image/png": "[encoded data removed]"
          },
          "metadata": {}
        }
      ],
      "source": [
        "# 평점 있는 것만 확인\n",
        "df['Book-Rating'].value_counts().sort_index()[1:].plot(kind='bar')"
      ]
    },
    {
      "cell_type": "code",
      "execution_count": 20,
      "id": "25a77649-159e-4c21-ba38-f0199475c9c7",
      "metadata": {
        "colab": {
          "base_uri": "https://localhost:8080/"
        },
        "id": "25a77649-159e-4c21-ba38-f0199475c9c7",
        "outputId": "cbab3561-020c-444c-8bd7-8f81a9f714ee"
      },
      "outputs": [
        {
          "output_type": "execute_result",
          "data": {
            "text/plain": [
              "count    322589.000000\n",
              "mean          7.619085\n",
              "std           1.847880\n",
              "min           1.000000\n",
              "25%           7.000000\n",
              "50%           8.000000\n",
              "75%           9.000000\n",
              "max          10.000000\n",
              "Name: Book-Rating, dtype: float64"
            ]
          },
          "metadata": {},
          "execution_count": 20
        }
      ],
      "source": [
        "df['Book-Rating'].loc[df['Book-Rating']>0].describe()"
      ]
    },
    {
      "cell_type": "code",
      "execution_count": 21,
      "id": "2104c4ed-0e5d-47a5-9dd5-e0ca29b95d56",
      "metadata": {
        "colab": {
          "base_uri": "https://localhost:8080/"
        },
        "id": "2104c4ed-0e5d-47a5-9dd5-e0ca29b95d56",
        "outputId": "ccbd87c8-4774-43d0-a80a-4434eb405d47"
      },
      "outputs": [
        {
          "output_type": "stream",
          "name": "stdout",
          "text": [
            "Non-Rating : 0.63%\n",
            "Rating : 0.37%\n"
          ]
        }
      ],
      "source": [
        "zeropoint = df['Book-Rating'].loc[df['Book-Rating']==0].count()\n",
        "validpoint = df['Book-Rating'].loc[df['Book-Rating']>0].count()\n",
        "totalpoint = len(df['Book-Rating'])\n",
        "\n",
        "print(f'Non-Rating : {round(zeropoint/totalpoint,2)}%\\nRating : {round(validpoint/totalpoint,2)}%')"
      ]
    },
    {
      "cell_type": "markdown",
      "id": "c7dbbf9f-535b-4ca7-9b25-714b800d39c0",
      "metadata": {
        "id": "c7dbbf9f-535b-4ca7-9b25-714b800d39c0"
      },
      "source": [
        "### 4. Age"
      ]
    },
    {
      "cell_type": "code",
      "execution_count": 22,
      "id": "6c9a1493-488f-4fed-9313-0a8a3d290572",
      "metadata": {
        "colab": {
          "base_uri": "https://localhost:8080/"
        },
        "id": "6c9a1493-488f-4fed-9313-0a8a3d290572",
        "outputId": "5d130946-b20a-491a-a818-fc7636a47ca0"
      },
      "outputs": [
        {
          "output_type": "stream",
          "name": "stderr",
          "text": [
            "<ipython-input-22-1eb13ea475c5>:1: FutureWarning: The default value of numeric_only in DataFrameGroupBy.mean is deprecated. In a future version, numeric_only will default to False. Either specify numeric_only or select only columns which should be valid for the function.\n",
            "  df.groupby('User-ID').mean()['Age'].describe()\n"
          ]
        },
        {
          "output_type": "execute_result",
          "data": {
            "text/plain": [
              "count    83256.000000\n",
              "mean        35.485455\n",
              "std         11.357974\n",
              "min          0.000000\n",
              "25%         31.000000\n",
              "50%         35.000000\n",
              "75%         36.000000\n",
              "max        244.000000\n",
              "Name: Age, dtype: float64"
            ]
          },
          "metadata": {},
          "execution_count": 22
        }
      ],
      "source": [
        "df.groupby('User-ID').mean()['Age'].describe()"
      ]
    },
    {
      "cell_type": "code",
      "execution_count": 23,
      "id": "8759697e-55ba-4366-b14c-9c3fc91e08b7",
      "metadata": {
        "colab": {
          "base_uri": "https://localhost:8080/"
        },
        "id": "8759697e-55ba-4366-b14c-9c3fc91e08b7",
        "outputId": "0829fdc0-3262-4201-a593-a0fe10c2e33f"
      },
      "outputs": [
        {
          "output_type": "stream",
          "name": "stderr",
          "text": [
            "<ipython-input-23-dadee255e697>:1: FutureWarning: The default value of numeric_only in DataFrameGroupBy.mean is deprecated. In a future version, numeric_only will default to False. Either specify numeric_only or select only columns which should be valid for the function.\n",
            "  sum(df.groupby('User-ID').mean()['Age'] >= 100)\n"
          ]
        },
        {
          "output_type": "execute_result",
          "data": {
            "text/plain": [
              "117"
            ]
          },
          "metadata": {},
          "execution_count": 23
        }
      ],
      "source": [
        "sum(df.groupby('User-ID').mean()['Age'] >= 100)"
      ]
    },
    {
      "cell_type": "code",
      "execution_count": 24,
      "id": "7a39362e-fe4b-4e9f-904a-114dad859273",
      "metadata": {
        "colab": {
          "base_uri": "https://localhost:8080/"
        },
        "id": "7a39362e-fe4b-4e9f-904a-114dad859273",
        "outputId": "fdde38c7-6f42-402f-de1a-1b325acb407f"
      },
      "outputs": [
        {
          "output_type": "stream",
          "name": "stderr",
          "text": [
            "<ipython-input-24-796da9f27346>:1: FutureWarning: The default value of numeric_only in DataFrameGroupBy.mean is deprecated. In a future version, numeric_only will default to False. Either specify numeric_only or select only columns which should be valid for the function.\n",
            "  sum(df.groupby('User-ID').mean()['Age'] < 1)\n"
          ]
        },
        {
          "output_type": "execute_result",
          "data": {
            "text/plain": [
              "115"
            ]
          },
          "metadata": {},
          "execution_count": 24
        }
      ],
      "source": [
        "sum(df.groupby('User-ID').mean()['Age'] < 1)"
      ]
    },
    {
      "cell_type": "code",
      "source": [
        "sum(df.groupby('User-ID').mean()['Age'] < 8)"
      ],
      "metadata": {
        "colab": {
          "base_uri": "https://localhost:8080/"
        },
        "id": "OTgT8SvE45N3",
        "outputId": "36c72f57-4732-4a6a-e214-3dbb11927abb"
      },
      "id": "OTgT8SvE45N3",
      "execution_count": 25,
      "outputs": [
        {
          "output_type": "stream",
          "name": "stderr",
          "text": [
            "<ipython-input-25-6a0e5710a6f3>:1: FutureWarning: The default value of numeric_only in DataFrameGroupBy.mean is deprecated. In a future version, numeric_only will default to False. Either specify numeric_only or select only columns which should be valid for the function.\n",
            "  sum(df.groupby('User-ID').mean()['Age'] < 8)\n"
          ]
        },
        {
          "output_type": "execute_result",
          "data": {
            "text/plain": [
              "273"
            ]
          },
          "metadata": {},
          "execution_count": 25
        }
      ]
    },
    {
      "cell_type": "code",
      "execution_count": 26,
      "id": "9eed95b2-a334-4519-aae0-77ea8ad256ea",
      "metadata": {
        "colab": {
          "base_uri": "https://localhost:8080/"
        },
        "id": "9eed95b2-a334-4519-aae0-77ea8ad256ea",
        "outputId": "fcad4fea-60fc-42cd-a167-c4256e578391"
      },
      "outputs": [
        {
          "output_type": "stream",
          "name": "stderr",
          "text": [
            "<ipython-input-26-eb3a160f6eda>:1: FutureWarning: The default value of numeric_only in DataFrameGroupBy.mean is deprecated. In a future version, numeric_only will default to False. Either specify numeric_only or select only columns which should be valid for the function.\n",
            "  sum(df.groupby('User-ID').mean()['Age'] > 80)\n"
          ]
        },
        {
          "output_type": "execute_result",
          "data": {
            "text/plain": [
              "181"
            ]
          },
          "metadata": {},
          "execution_count": 26
        }
      ],
      "source": [
        "sum(df.groupby('User-ID').mean()['Age'] > 80)"
      ]
    },
    {
      "cell_type": "code",
      "source": [
        "plt.hist(df.groupby('User-ID').mean()['Age'], bins=100)\n",
        "plt.xlim(0,100)"
      ],
      "metadata": {
        "colab": {
          "base_uri": "https://localhost:8080/",
          "height": 505
        },
        "id": "Ugfjjziz6Z-W",
        "outputId": "4e608740-0e38-417f-fe96-23fef5d69dcb"
      },
      "id": "Ugfjjziz6Z-W",
      "execution_count": 35,
      "outputs": [
        {
          "output_type": "stream",
          "name": "stderr",
          "text": [
            "<ipython-input-35-0f651ae989ae>:1: FutureWarning: The default value of numeric_only in DataFrameGroupBy.mean is deprecated. In a future version, numeric_only will default to False. Either specify numeric_only or select only columns which should be valid for the function.\n",
            "  plt.hist(df.groupby('User-ID').mean()['Age'], bins=100)\n"
          ]
        },
        {
          "output_type": "execute_result",
          "data": {
            "text/plain": [
              "(0.0, 100.0)"
            ]
          },
          "metadata": {},
          "execution_count": 35
        },
        {
          "output_type": "display_data",
          "data": {
            "text/plain": [
              "<Figure size 640x480 with 1 Axes>"
            ],
            "image/png": "[encoded data removed]"
          },
          "metadata": {}
        }
      ]
    },
    {
      "cell_type": "markdown",
      "id": "e11dbb4c-d300-450a-aca4-96613ba97b9c",
      "metadata": {
        "id": "e11dbb4c-d300-450a-aca4-96613ba97b9c"
      },
      "source": [
        "- 8~80세로 범위 한정"
      ]
    },
    {
      "cell_type": "markdown",
      "id": "cebf8f33-b06a-4b70-b32b-e1cbca8f5e41",
      "metadata": {
        "id": "cebf8f33-b06a-4b70-b32b-e1cbca8f5e41"
      },
      "source": [
        "## 4. Location"
      ]
    },
    {
      "cell_type": "code",
      "execution_count": 27,
      "id": "473fdecb-f128-4f03-994b-c686b1b4be1a",
      "metadata": {
        "colab": {
          "base_uri": "https://localhost:8080/",
          "height": 35
        },
        "id": "473fdecb-f128-4f03-994b-c686b1b4be1a",
        "outputId": "efb05473-76eb-44db-8442-7f79f724196b"
      },
      "outputs": [
        {
          "output_type": "execute_result",
          "data": {
            "text/plain": [
              "'26655 westerstede, niedersachsen, lk ammerland, deutschland'"
            ],
            "application/vnd.google.colaboratory.intrinsic+json": {
              "type": "string"
            }
          },
          "metadata": {},
          "execution_count": 27
        }
      ],
      "source": [
        "df.loc[6666]['Location']"
      ]
    },
    {
      "cell_type": "code",
      "execution_count": 28,
      "id": "1f1f3f12-21c2-4bd0-a0cc-cfeb9e204a0c",
      "metadata": {
        "colab": {
          "base_uri": "https://localhost:8080/",
          "height": 424
        },
        "id": "1f1f3f12-21c2-4bd0-a0cc-cfeb9e204a0c",
        "outputId": "53939fe8-e430-499d-bb92-62abe59fdb70"
      },
      "outputs": [
        {
          "output_type": "execute_result",
          "data": {
            "text/plain": [
              "                  ID     User-ID      Book-ID  Book-Rating   Age  \\\n",
              "1962    TRAIN_001962  USER_00276  BOOK_139444           10  64.0   \n",
              "6666    TRAIN_006666  USER_00725  BOOK_149102            0  35.0   \n",
              "7568    TRAIN_007568  USER_00911  BOOK_101484           10  29.0   \n",
              "7569    TRAIN_007569  USER_00911  BOOK_174611            5  29.0   \n",
              "8239    TRAIN_008239  USER_01044  BOOK_084346            6  41.0   \n",
              "...              ...         ...          ...          ...   ...   \n",
              "870194  TRAIN_870194  USER_91906  BOOK_216059            0  35.0   \n",
              "870195  TRAIN_870195  USER_91906  BOOK_233883            5  35.0   \n",
              "870196  TRAIN_870196  USER_91906  BOOK_256804            1  35.0   \n",
              "870608  TRAIN_870608  USER_92040  BOOK_042883            0  48.0   \n",
              "870609  TRAIN_870609  USER_92040  BOOK_103435            6  48.0   \n",
              "\n",
              "                                                 Location  \\\n",
              "1962                           endicott,ny, new york, usa   \n",
              "6666    26655 westerstede, niedersachsen, lk ammerland...   \n",
              "7568                efland, nc 27243, north carolina, usa   \n",
              "7569                efland, nc 27243, north carolina, usa   \n",
              "8239                   tellico plains, tn, tennessee, usa   \n",
              "...                                                   ...   \n",
              "870194        washington, d.c., district of columbia, usa   \n",
              "870195        washington, d.c., district of columbia, usa   \n",
              "870196        washington, d.c., district of columbia, usa   \n",
              "870608                             granger,, indiana, usa   \n",
              "870609                             granger,, indiana, usa   \n",
              "\n",
              "                                               Book-Title        Book-Author  \\\n",
              "1962     Friday Night Lights: A Town, a Team, and a Dream    H. G. Bissinger   \n",
              "6666                             Der Hahn ist tot. Roman.        Ingrid Noll   \n",
              "7568                                            The Ithon          Anonymous   \n",
              "7569                 A Big Storm Knocked It over: A Novel      Laurie Colwin   \n",
              "8239                  The Red Tent (Bestselling Backlist)      Anita Diamant   \n",
              "...                                                   ...                ...   \n",
              "870194                                   Educating Tigers   Wendy Sand Eckel   \n",
              "870195                                          Death Kit       Susan Sontag   \n",
              "870196         The Dive From Clausen's Pier (Alex Awards)         ANN PACKER   \n",
              "870608  Tuxedo Park : A Wall Street Tycoon and the Sec...      Jennet Conant   \n",
              "870609                     The World Is My Home: A Memoir  James A. Michener   \n",
              "\n",
              "        Year-Of-Publication                 Publisher  \n",
              "1962                 1991.0                 Perennial  \n",
              "6666                 1993.0           Diogenes Verlag  \n",
              "7568                 2003.0  Infinity Publishing (PA)  \n",
              "7569                 1993.0             Harpercollins  \n",
              "8239                 1998.0               Picador USA  \n",
              "...                     ...                       ...  \n",
              "870194               2000.0            Publishamerica  \n",
              "870195               1991.0                    Anchor  \n",
              "870196               2002.0                     Knopf  \n",
              "870608               2002.0      Simon &amp; Schuster  \n",
              "870609               1992.0          Random House Inc  \n",
              "\n",
              "[2864 rows x 10 columns]"
            ],
            "text/html": [
              "\n",
              "  <div id=\"df-98aeaf52-0cb4-4c7e-9c73-8858d810f713\">\n",
              "    <div class=\"colab-df-container\">\n",
              "      <div>\n",
              "<style scoped>\n",
              "    .dataframe tbody tr th:only-of-type {\n",
              "        vertical-align: middle;\n",
              "    }\n",
              "\n",
              "    .dataframe tbody tr th {\n",
              "        vertical-align: top;\n",
              "    }\n",
              "\n",
              "    .dataframe thead th {\n",
              "        text-align: right;\n",
              "    }\n",
              "</style>\n",
              "<table border=\"1\" class=\"dataframe\">\n",
              "  <thead>\n",
              "    <tr style=\"text-align: right;\">\n",
              "      <th></th>\n",
              "      <th>ID</th>\n",
              "      <th>User-ID</th>\n",
              "      <th>Book-ID</th>\n",
              "      <th>Book-Rating</th>\n",
              "      <th>Age</th>\n",
              "      <th>Location</th>\n",
              "      <th>Book-Title</th>\n",
              "      <th>Book-Author</th>\n",
              "      <th>Year-Of-Publication</th>\n",
              "      <th>Publisher</th>\n",
              "    </tr>\n",
              "  </thead>\n",
              "  <tbody>\n",
              "    <tr>\n",
              "      <th>1962</th>\n",
              "      <td>TRAIN_001962</td>\n",
              "      <td>USER_00276</td>\n",
              "      <td>BOOK_139444</td>\n",
              "      <td>10</td>\n",
              "      <td>64.0</td>\n",
              "      <td>endicott,ny, new york, usa</td>\n",
              "      <td>Friday Night Lights: A Town, a Team, and a Dream</td>\n",
              "      <td>H. G. Bissinger</td>\n",
              "      <td>1991.0</td>\n",
              "      <td>Perennial</td>\n",
              "    </tr>\n",
              "    <tr>\n",
              "      <th>6666</th>\n",
              "      <td>TRAIN_006666</td>\n",
              "      <td>USER_00725</td>\n",
              "      <td>BOOK_149102</td>\n",
              "      <td>0</td>\n",
              "      <td>35.0</td>\n",
              "      <td>26655 westerstede, niedersachsen, lk ammerland...</td>\n",
              "      <td>Der Hahn ist tot. Roman.</td>\n",
              "      <td>Ingrid Noll</td>\n",
              "      <td>1993.0</td>\n",
              "      <td>Diogenes Verlag</td>\n",
              "    </tr>\n",
              "    <tr>\n",
              "      <th>7568</th>\n",
              "      <td>TRAIN_007568</td>\n",
              "      <td>USER_00911</td>\n",
              "      <td>BOOK_101484</td>\n",
              "      <td>10</td>\n",
              "      <td>29.0</td>\n",
              "      <td>efland, nc 27243, north carolina, usa</td>\n",
              "      <td>The Ithon</td>\n",
              "      <td>Anonymous</td>\n",
              "      <td>2003.0</td>\n",
              "      <td>Infinity Publishing (PA)</td>\n",
              "    </tr>\n",
              "    <tr>\n",
              "      <th>7569</th>\n",
              "      <td>TRAIN_007569</td>\n",
              "      <td>USER_00911</td>\n",
              "      <td>BOOK_174611</td>\n",
              "      <td>5</td>\n",
              "      <td>29.0</td>\n",
              "      <td>efland, nc 27243, north carolina, usa</td>\n",
              "      <td>A Big Storm Knocked It over: A Novel</td>\n",
              "      <td>Laurie Colwin</td>\n",
              "      <td>1993.0</td>\n",
              "      <td>Harpercollins</td>\n",
              "    </tr>\n",
              "    <tr>\n",
              "      <th>8239</th>\n",
              "      <td>TRAIN_008239</td>\n",
              "      <td>USER_01044</td>\n",
              "      <td>BOOK_084346</td>\n",
              "      <td>6</td>\n",
              "      <td>41.0</td>\n",
              "      <td>tellico plains, tn, tennessee, usa</td>\n",
              "      <td>The Red Tent (Bestselling Backlist)</td>\n",
              "      <td>Anita Diamant</td>\n",
              "      <td>1998.0</td>\n",
              "      <td>Picador USA</td>\n",
              "    </tr>\n",
              "    <tr>\n",
              "      <th>...</th>\n",
              "      <td>...</td>\n",
              "      <td>...</td>\n",
              "      <td>...</td>\n",
              "      <td>...</td>\n",
              "      <td>...</td>\n",
              "      <td>...</td>\n",
              "      <td>...</td>\n",
              "      <td>...</td>\n",
              "      <td>...</td>\n",
              "      <td>...</td>\n",
              "    </tr>\n",
              "    <tr>\n",
              "      <th>870194</th>\n",
              "      <td>TRAIN_870194</td>\n",
              "      <td>USER_91906</td>\n",
              "      <td>BOOK_216059</td>\n",
              "      <td>0</td>\n",
              "      <td>35.0</td>\n",
              "      <td>washington, d.c., district of columbia, usa</td>\n",
              "      <td>Educating Tigers</td>\n",
              "      <td>Wendy Sand Eckel</td>\n",
              "      <td>2000.0</td>\n",
              "      <td>Publishamerica</td>\n",
              "    </tr>\n",
              "    <tr>\n",
              "      <th>870195</th>\n",
              "      <td>TRAIN_870195</td>\n",
              "      <td>USER_91906</td>\n",
              "      <td>BOOK_233883</td>\n",
              "      <td>5</td>\n",
              "      <td>35.0</td>\n",
              "      <td>washington, d.c., district of columbia, usa</td>\n",
              "      <td>Death Kit</td>\n",
              "      <td>Susan Sontag</td>\n",
              "      <td>1991.0</td>\n",
              "      <td>Anchor</td>\n",
              "    </tr>\n",
              "    <tr>\n",
              "      <th>870196</th>\n",
              "      <td>TRAIN_870196</td>\n",
              "      <td>USER_91906</td>\n",
              "      <td>BOOK_256804</td>\n",
              "      <td>1</td>\n",
              "      <td>35.0</td>\n",
              "      <td>washington, d.c., district of columbia, usa</td>\n",
              "      <td>The Dive From Clausen's Pier (Alex Awards)</td>\n",
              "      <td>ANN PACKER</td>\n",
              "      <td>2002.0</td>\n",
              "      <td>Knopf</td>\n",
              "    </tr>\n",
              "    <tr>\n",
              "      <th>870608</th>\n",
              "      <td>TRAIN_870608</td>\n",
              "      <td>USER_92040</td>\n",
              "      <td>BOOK_042883</td>\n",
              "      <td>0</td>\n",
              "      <td>48.0</td>\n",
              "      <td>granger,, indiana, usa</td>\n",
              "      <td>Tuxedo Park : A Wall Street Tycoon and the Sec...</td>\n",
              "      <td>Jennet Conant</td>\n",
              "      <td>2002.0</td>\n",
              "      <td>Simon &amp;amp; Schuster</td>\n",
              "    </tr>\n",
              "    <tr>\n",
              "      <th>870609</th>\n",
              "      <td>TRAIN_870609</td>\n",
              "      <td>USER_92040</td>\n",
              "      <td>BOOK_103435</td>\n",
              "      <td>6</td>\n",
              "      <td>48.0</td>\n",
              "      <td>granger,, indiana, usa</td>\n",
              "      <td>The World Is My Home: A Memoir</td>\n",
              "      <td>James A. Michener</td>\n",
              "      <td>1992.0</td>\n",
              "      <td>Random House Inc</td>\n",
              "    </tr>\n",
              "  </tbody>\n",
              "</table>\n",
              "<p>2864 rows × 10 columns</p>\n",
              "</div>\n",
              "      <button class=\"colab-df-convert\" onclick=\"convertToInteractive('df-98aeaf52-0cb4-4c7e-9c73-8858d810f713')\"\n",
              "              title=\"Convert this dataframe to an interactive table.\"\n",
              "              style=\"display:none;\">\n",
              "        \n",
              "  <svg xmlns=\"http://www.w3.org/2000/svg\" height=\"24px\"viewBox=\"0 0 24 24\"\n",
              "       width=\"24px\">\n",
              "    <path d=\"M0 0h24v24H0V0z\" fill=\"none\"/>\n",
              "    <path d=\"M18.56 5.44l.94 2.06.94-2.06 2.06-.94-2.06-.94-.94-2.06-.94 2.06-2.06.94zm-11 1L8.5 8.5l.94-2.06 2.06-.94-2.06-.94L8.5 2.5l-.94 2.06-2.06.94zm10 10l.94 2.06.94-2.06 2.06-.94-2.06-.94-.94-2.06-.94 2.06-2.06.94z\"/><path d=\"M17.41 7.96l-1.37-1.37c-.4-.4-.92-.59-1.43-.59-.52 0-1.04.2-1.43.59L10.3 9.45l-7.72 7.72c-.78.78-.78 2.05 0 2.83L4 21.41c.39.39.9.59 1.41.59.51 0 1.02-.2 1.41-.59l7.78-7.78 2.81-2.81c.8-.78.8-2.07 0-2.86zM5.41 20L4 18.59l7.72-7.72 1.47 1.35L5.41 20z\"/>\n",
              "  </svg>\n",
              "      </button>\n",
              "      \n",
              "  <style>\n",
              "    .colab-df-container {\n",
              "      display:flex;\n",
              "      flex-wrap:wrap;\n",
              "      gap: 12px;\n",
              "    }\n",
              "\n",
              "    .colab-df-convert {\n",
              "      background-color: #E8F0FE;\n",
              "      border: none;\n",
              "      border-radius: 50%;\n",
              "      cursor: pointer;\n",
              "      display: none;\n",
              "      fill: #1967D2;\n",
              "      height: 32px;\n",
              "      padding: 0 0 0 0;\n",
              "      width: 32px;\n",
              "    }\n",
              "\n",
              "    .colab-df-convert:hover {\n",
              "      background-color: #E2EBFA;\n",
              "      box-shadow: 0px 1px 2px rgba(60, 64, 67, 0.3), 0px 1px 3px 1px rgba(60, 64, 67, 0.15);\n",
              "      fill: #174EA6;\n",
              "    }\n",
              "\n",
              "    [theme=dark] .colab-df-convert {\n",
              "      background-color: #3B4455;\n",
              "      fill: #D2E3FC;\n",
              "    }\n",
              "\n",
              "    [theme=dark] .colab-df-convert:hover {\n",
              "      background-color: #434B5C;\n",
              "      box-shadow: 0px 1px 3px 1px rgba(0, 0, 0, 0.15);\n",
              "      filter: drop-shadow(0px 1px 2px rgba(0, 0, 0, 0.3));\n",
              "      fill: #FFFFFF;\n",
              "    }\n",
              "  </style>\n",
              "\n",
              "      <script>\n",
              "        const buttonEl =\n",
              "          document.querySelector('#df-98aeaf52-0cb4-4c7e-9c73-8858d810f713 button.colab-df-convert');\n",
              "        buttonEl.style.display =\n",
              "          google.colab.kernel.accessAllowed ? 'block' : 'none';\n",
              "\n",
              "        async function convertToInteractive(key) {\n",
              "          const element = document.querySelector('#df-98aeaf52-0cb4-4c7e-9c73-8858d810f713');\n",
              "          const dataTable =\n",
              "            await google.colab.kernel.invokeFunction('convertToInteractive',\n",
              "                                                     [key], {});\n",
              "          if (!dataTable) return;\n",
              "\n",
              "          const docLinkHtml = 'Like what you see? Visit the ' +\n",
              "            '<a target=\"_blank\" href=https://colab.research.google.com/notebooks/data_table.ipynb>data table notebook</a>'\n",
              "            + ' to learn more about interactive tables.';\n",
              "          element.innerHTML = '';\n",
              "          dataTable['output_type'] = 'display_data';\n",
              "          await google.colab.output.renderOutput(dataTable, element);\n",
              "          const docLink = document.createElement('div');\n",
              "          docLink.innerHTML = docLinkHtml;\n",
              "          element.appendChild(docLink);\n",
              "        }\n",
              "      </script>\n",
              "    </div>\n",
              "  </div>\n",
              "  "
            ]
          },
          "metadata": {},
          "execution_count": 28
        }
      ],
      "source": [
        "df[df['Location'].apply(lambda x: len(x.split(','))) != 3]"
      ]
    },
    {
      "cell_type": "code",
      "execution_count": 29,
      "id": "3a0ff592-5840-4396-825b-534985817c5e",
      "metadata": {
        "colab": {
          "base_uri": "https://localhost:8080/"
        },
        "id": "3a0ff592-5840-4396-825b-534985817c5e",
        "outputId": "e740c4d4-c9b3-44a1-815b-32d743b24d74"
      },
      "outputs": [
        {
          "output_type": "execute_result",
          "data": {
            "text/plain": [
              "array([' canada', ' usa', ' germany', ' spain', ' australia',\n",
              "       ' united kingdom', '', ' italy', ' netherlands', ' portugal',\n",
              "       ' sweden', ' austria', ' france', ' finland', ' new zealand',\n",
              "       ' singapore', ' switzerland', ' philippines', ' españa',\n",
              "       ' malaysia', ' belgium', ' japan', ' denmark', ' belize',\n",
              "       ' england', ' poland', ' ireland', ' haiti',\n",
              "       ' trinidad and tobago', ' deutschland', ' tanzania', ' moldova',\n",
              "       ' bulgaria', ' luxembourg', ' south africa', ' czech republic',\n",
              "       ' israel', ' malta', ' petrolwar nation', ' kuwait', ' peru',\n",
              "       ' ecuador', ' south korea', ' turkey', ' nigeria', ' brazil',\n",
              "       ' hungary', ' indonesia', ' kazakhstan', ' india', ' china',\n",
              "       ' egypt', ' croatia', ' taiwan', ' argentina', ' chile',\n",
              "       ' venezuela', ' galiza', ' iceland', ' scotland', ' bolivia',\n",
              "       ' lithuania', ' norway', ' mexico', ' bahamas', ' united sates',\n",
              "       ' romania', ' iran', ' dominican republic', ' maricopa',\n",
              "       ' the world tomorrow', ' andorra', ' galiza neghra', ' jersey',\n",
              "       ' ghana', ' richmond country', ' united arab emirates', ' tunisia',\n",
              "       ' papua new guinea', ' catalunya', ' costa rica', ' vietnam',\n",
              "       ' la chine éternelle!', ' sri lanka', ' slovenia', ' universe',\n",
              "       ' slovakia', ' greece', ' lleida', ' la chine éternelle !',\n",
              "       ' framingham', ' puerto rico', ' grenada', ' cameroon',\n",
              "       ' usa (currently living in england)', ' alderney', ' saint loius',\n",
              "       ' laos', ' collin', ' burma', ' thailand', ' shelby', ' n/a',\n",
              "       ' hong kong', ' tdzimi', ' space', ' worcester', ' ethiopia',\n",
              "       ' zambia', ' los estados unidos de norte america', ' russia',\n",
              "       ' united states', ' antarctica', ' polk', ' u.a.e', ' cambodia',\n",
              "       ' zimbabwe', ' here and there', ' u.s.a.', ' cherokee', ' cananda',\n",
              "       ' monaco', ' morgan', ' jamaica', ' cape verde', ' pakistan',\n",
              "       ' mongolia', ' antigua and barbuda', ' cyprus', ' estonia',\n",
              "       ' barbados', ' nepal', ' ukraine', ' pender', ' us',\n",
              "       ' saint lucia', ' kenya', ' guernsey', ' euskal herria',\n",
              "       ' yugoslavia', ' morocco', ' bosnia and herzegovina', ' colombia',\n",
              "       ' ventura county', ' csa', ' hernando', ' latvia',\n",
              "       ' prince william', ' x', ' kern', ' onondaga nation', ' guatemala',\n",
              "       ' aruba', ' saudi arabia', ' we`re global!', ' tobago',\n",
              "       ' catalonia', ' urugua', ' turkmenistan', ' panama', ' uzbekistan',\n",
              "       ' bermuda', ' oman', ' phillipines',\n",
              "       ' disgruntled states of america', ' san mateo', ' uruguay',\n",
              "       ' unknown', ' burkina faso', ' madagascar', ' georgia', ' benin',\n",
              "       ' united state', ' nz', ' afghanistan', ' bangladesh', ' fiji',\n",
              "       ' italia', ' berguedà', ' paraguay', ' albania', ' ferrara',\n",
              "       ' gabon', ' l`italia', ' wales', ' cayman islands', ' macau',\n",
              "       ' marshall islands', ' rwanda', ' niger', ' ysa', ' mauritius',\n",
              "       ' macedonia', ' channel islands', ' palau', ' qatar',\n",
              "       ' n/a - on the road', ' the great white north', ' cuba',\n",
              "       ' algeria', ' united kindgonm', ' brunei', ' solomon islands',\n",
              "       ' caribbean sea', ' k1c7b1', ' st.thomasi', ' guinea-bissau',\n",
              "       ' iraq', ' catalunya spain', ' lebanon', ' la belgique',\n",
              "       ' aroostook', ' guam', ' rutherford', ' \"n/a\"', ' honduras',\n",
              "       ' el salvador', ' the', ' fort bend', ' syria', ' mozambique',\n",
              "       ' far away...', ' u.k.', ' quit', ' madrid', ' guinea', ' orense',\n",
              "       ' st. helena', ' hungary and usa', ' c', ' la france',\n",
              "       ' everywhere and anywhere', ' u.s. of a.', ' uganda',\n",
              "       ' united staes', ' ee.uu', ' alachua', ' tajikistan',\n",
              "       ' burlington', ' van wert', ' camden', ' bahrain', ' u.s>',\n",
              "       ' america'], dtype=object)"
            ]
          },
          "metadata": {},
          "execution_count": 29
        }
      ],
      "source": [
        "# 국가 수준에서 볼 때, x, space와 같은 오류 데이터나, espana-spain과 같이 같은 국가를 뜻하는 단어들 포착\n",
        "loc_ = df['Location'].apply(lambda x: x.split(',')[-1])\n",
        "loc_.unique()"
      ]
    },
    {
      "cell_type": "code",
      "execution_count": 30,
      "id": "b72dbbea",
      "metadata": {
        "colab": {
          "base_uri": "https://localhost:8080/"
        },
        "id": "b72dbbea",
        "outputId": "06864c74-048e-468c-f429-0e643b2af716"
      },
      "outputs": [
        {
          "output_type": "execute_result",
          "data": {
            "text/plain": [
              "array([' new brunswick', ' north carolina', ' minnesota', ...,\n",
              "       ' shetland', ' wanganui', ' vaucluse'], dtype=object)"
            ]
          },
          "metadata": {},
          "execution_count": 30
        }
      ],
      "source": [
        "loc_ = df['Location'].apply(lambda x: x.split(',')[1])\n",
        "loc_.unique()"
      ]
    },
    {
      "cell_type": "markdown",
      "source": [
        "- 국가 단위에서 전처리 작업 수행\n",
        "- Item2Vec 방법을 차용하여 지역 정보를 임베딩\n",
        "  - 주소는 계층적이기에 나오는 단어쌍이 정해져 있을 것이라 가정"
      ],
      "metadata": {
        "id": "RTvjZy7M9M3K"
      },
      "id": "RTvjZy7M9M3K"
    },
    {
      "cell_type": "markdown",
      "source": [
        "## 5. Book-Title"
      ],
      "metadata": {
        "id": "zjedf0-A5DeV"
      },
      "id": "zjedf0-A5DeV"
    },
    {
      "cell_type": "code",
      "source": [
        "print(df['Book-Title'][22205])"
      ],
      "metadata": {
        "colab": {
          "base_uri": "https://localhost:8080/"
        },
        "id": "uAfGJMJ75nlu",
        "outputId": "4f92d3fc-849b-4436-e76c-30d292922181"
      },
      "id": "uAfGJMJ75nlu",
      "execution_count": 44,
      "outputs": [
        {
          "output_type": "stream",
          "name": "stdout",
          "text": [
            "Nacht Ã?Â¼ber den Wassern.\n"
          ]
        }
      ]
    },
    {
      "cell_type": "markdown",
      "source": [
        "- 위와 같이 깨진 글자, 비영어 언어 존재\n",
        "- 다른 부분에서 책에 대한 정보가 들어갈 것이라 판단하고 분석 대상에서 제외"
      ],
      "metadata": {
        "id": "Ag60NNhW-l3H"
      },
      "id": "Ag60NNhW-l3H"
    },
    {
      "cell_type": "markdown",
      "source": [
        "## 6. Book-Author"
      ],
      "metadata": {
        "id": "RLks4Fz67a4E"
      },
      "id": "RLks4Fz67a4E"
    },
    {
      "cell_type": "code",
      "source": [
        "df['Book-Author'].value_counts()"
      ],
      "metadata": {
        "colab": {
          "base_uri": "https://localhost:8080/"
        },
        "id": "XC4Tt7nZ7WK2",
        "outputId": "76767252-9162-4b04-f489-909f067a3e98"
      },
      "id": "XC4Tt7nZ7WK2",
      "execution_count": 47,
      "outputs": [
        {
          "output_type": "execute_result",
          "data": {
            "text/plain": [
              "Stephen King           8467\n",
              "Nora Roberts           6934\n",
              "John Grisham           5283\n",
              "James Patterson        5020\n",
              "Mary Higgins Clark     3983\n",
              "                       ... \n",
              "Cyrinda Foxe-Tyler        1\n",
              "Matt Bloom                1\n",
              "Cassie Kendall            1\n",
              "Birney, M.D. Dibble       1\n",
              "Stephen Griffith          1\n",
              "Name: Book-Author, Length: 92635, dtype: int64"
            ]
          },
          "metadata": {},
          "execution_count": 47
        }
      ]
    },
    {
      "cell_type": "code",
      "source": [
        "df['Book-Author'].value_counts().describe()"
      ],
      "metadata": {
        "colab": {
          "base_uri": "https://localhost:8080/"
        },
        "id": "Hi4kgD4l7pse",
        "outputId": "94a1cc8f-e11e-4ce7-ebd1-d758859b3060"
      },
      "id": "Hi4kgD4l7pse",
      "execution_count": 48,
      "outputs": [
        {
          "output_type": "execute_result",
          "data": {
            "text/plain": [
              "count    92635.000000\n",
              "mean         9.406736\n",
              "std         75.775138\n",
              "min          1.000000\n",
              "25%          1.000000\n",
              "50%          2.000000\n",
              "75%          4.000000\n",
              "max       8467.000000\n",
              "Name: Book-Author, dtype: float64"
            ]
          },
          "metadata": {},
          "execution_count": 48
        }
      ]
    },
    {
      "cell_type": "markdown",
      "source": [
        "## 7. year"
      ],
      "metadata": {
        "id": "BrV5gmPv7tF2"
      },
      "id": "BrV5gmPv7tF2"
    },
    {
      "cell_type": "code",
      "source": [
        "df['Year-Of-Publication'].value_counts()"
      ],
      "metadata": {
        "colab": {
          "base_uri": "https://localhost:8080/"
        },
        "id": "fQIt2zKC77Dd",
        "outputId": "e84f945e-3aa7-4c08-9530-f721dcf0e485"
      },
      "id": "fQIt2zKC77Dd",
      "execution_count": 50,
      "outputs": [
        {
          "output_type": "execute_result",
          "data": {
            "text/plain": [
              "2002.0    77173\n",
              "2001.0    67566\n",
              "1999.0    64175\n",
              "2000.0    61749\n",
              "2003.0    60744\n",
              "          ...  \n",
              "2008.0        1\n",
              "1909.0        1\n",
              "1904.0        1\n",
              "1378.0        1\n",
              "1910.0        1\n",
              "Name: Year-Of-Publication, Length: 110, dtype: int64"
            ]
          },
          "metadata": {},
          "execution_count": 50
        }
      ]
    },
    {
      "cell_type": "code",
      "source": [
        "plt.hist(df['Year-Of-Publication'])"
      ],
      "metadata": {
        "colab": {
          "base_uri": "https://localhost:8080/",
          "height": 540
        },
        "id": "FGYbgZ9P8Fql",
        "outputId": "7db7a0f5-9bce-4605-fa4d-8f8dc730d60f"
      },
      "id": "FGYbgZ9P8Fql",
      "execution_count": 55,
      "outputs": [
        {
          "output_type": "execute_result",
          "data": {
            "text/plain": [
              "(array([1.15150e+04, 0.00000e+00, 0.00000e+00, 0.00000e+00, 0.00000e+00,\n",
              "        0.00000e+00, 2.00000e+00, 0.00000e+00, 1.00000e+00, 8.59875e+05]),\n",
              " array([-1.0000e+00,  2.0120e+02,  4.0340e+02,  6.0560e+02,  8.0780e+02,\n",
              "         1.0100e+03,  1.2122e+03,  1.4144e+03,  1.6166e+03,  1.8188e+03,\n",
              "         2.0210e+03]),\n",
              " <BarContainer object of 10 artists>)"
            ]
          },
          "metadata": {},
          "execution_count": 55
        },
        {
          "output_type": "display_data",
          "data": {
            "text/plain": [
              "<Figure size 640x480 with 1 Axes>"
            ],
            "image/png": "[encoded data removed]"
          },
          "metadata": {}
        }
      ]
    },
    {
      "cell_type": "code",
      "source": [
        "# 19세기부터\n",
        "years = df.loc[df['Year-Of-Publication']>1801]\n",
        "plt.hist(years['Year-Of-Publication'], bins=50)"
      ],
      "metadata": {
        "colab": {
          "base_uri": "https://localhost:8080/",
          "height": 760
        },
        "id": "hEfbddgi8mDZ",
        "outputId": "1e9f7453-3c7e-4d85-f781-29579ef252f8"
      },
      "id": "hEfbddgi8mDZ",
      "execution_count": 57,
      "outputs": [
        {
          "output_type": "execute_result",
          "data": {
            "text/plain": [
              "(array([1.00000e+00, 0.00000e+00, 0.00000e+00, 0.00000e+00, 0.00000e+00,\n",
              "        0.00000e+00, 0.00000e+00, 0.00000e+00, 0.00000e+00, 0.00000e+00,\n",
              "        0.00000e+00, 0.00000e+00, 0.00000e+00, 0.00000e+00, 0.00000e+00,\n",
              "        0.00000e+00, 0.00000e+00, 0.00000e+00, 0.00000e+00, 0.00000e+00,\n",
              "        0.00000e+00, 3.00000e+00, 1.80000e+01, 5.00000e+00, 2.50000e+01,\n",
              "        2.00000e+00, 9.00000e+01, 5.70000e+01, 9.60000e+01, 2.20000e+01,\n",
              "        4.80000e+01, 1.25000e+02, 9.40000e+01, 2.33000e+02, 9.17000e+02,\n",
              "        1.11400e+03, 1.66400e+03, 1.82100e+03, 4.91900e+03, 1.01740e+04,\n",
              "        2.79470e+04, 4.79820e+04, 8.13810e+04, 1.74505e+05, 2.17531e+05,\n",
              "        2.67232e+05, 2.17990e+04, 1.20000e+01, 0.00000e+00, 5.90000e+01]),\n",
              " array([1806. , 1810.3, 1814.6, 1818.9, 1823.2, 1827.5, 1831.8, 1836.1,\n",
              "        1840.4, 1844.7, 1849. , 1853.3, 1857.6, 1861.9, 1866.2, 1870.5,\n",
              "        1874.8, 1879.1, 1883.4, 1887.7, 1892. , 1896.3, 1900.6, 1904.9,\n",
              "        1909.2, 1913.5, 1917.8, 1922.1, 1926.4, 1930.7, 1935. , 1939.3,\n",
              "        1943.6, 1947.9, 1952.2, 1956.5, 1960.8, 1965.1, 1969.4, 1973.7,\n",
              "        1978. , 1982.3, 1986.6, 1990.9, 1995.2, 1999.5, 2003.8, 2008.1,\n",
              "        2012.4, 2016.7, 2021. ]),\n",
              " <BarContainer object of 50 artists>)"
            ]
          },
          "metadata": {},
          "execution_count": 57
        },
        {
          "output_type": "display_data",
          "data": {
            "text/plain": [
              "<Figure size 640x480 with 1 Axes>"
            ],
            "image/png": "[encoded data removed]"
          },
          "metadata": {}
        }
      ]
    },
    {
      "cell_type": "code",
      "source": [
        "# 1950년부터\n",
        "years = df.loc[df['Year-Of-Publication']>=1950]\n",
        "plt.hist(years['Year-Of-Publication'], bins=50)"
      ],
      "metadata": {
        "colab": {
          "base_uri": "https://localhost:8080/",
          "height": 779
        },
        "id": "Al4eyLpf88re",
        "outputId": "cd932c85-20e9-40de-a672-e7e4f583f5cc"
      },
      "id": "Al4eyLpf88re",
      "execution_count": 58,
      "outputs": [
        {
          "output_type": "execute_result",
          "data": {
            "text/plain": [
              "(array([1.21000e+02, 6.90000e+01, 6.11000e+02, 1.78000e+02, 3.38000e+02,\n",
              "        1.67000e+02, 4.37000e+02, 5.91000e+02, 2.48000e+02, 6.01000e+02,\n",
              "        5.24000e+02, 6.50000e+02, 4.51000e+02, 7.20000e+02, 2.07900e+03,\n",
              "        1.39800e+03, 3.26100e+03, 1.69500e+03, 3.32100e+03, 7.49800e+03,\n",
              "        3.74800e+03, 1.12110e+04, 8.82900e+03, 2.20880e+04, 1.16650e+04,\n",
              "        1.42290e+04, 3.39700e+04, 2.14770e+04, 5.38620e+04, 3.01810e+04,\n",
              "        7.10510e+04, 4.53450e+04, 4.93730e+04, 1.03983e+05, 6.41750e+04,\n",
              "        1.29315e+05, 7.71730e+04, 6.07440e+04, 2.17960e+04, 2.00000e+00,\n",
              "        1.00000e+00, 0.00000e+00, 1.10000e+01, 1.00000e+00, 0.00000e+00,\n",
              "        0.00000e+00, 0.00000e+00, 0.00000e+00, 0.00000e+00, 5.90000e+01]),\n",
              " array([1950.  , 1951.42, 1952.84, 1954.26, 1955.68, 1957.1 , 1958.52,\n",
              "        1959.94, 1961.36, 1962.78, 1964.2 , 1965.62, 1967.04, 1968.46,\n",
              "        1969.88, 1971.3 , 1972.72, 1974.14, 1975.56, 1976.98, 1978.4 ,\n",
              "        1979.82, 1981.24, 1982.66, 1984.08, 1985.5 , 1986.92, 1988.34,\n",
              "        1989.76, 1991.18, 1992.6 , 1994.02, 1995.44, 1996.86, 1998.28,\n",
              "        1999.7 , 2001.12, 2002.54, 2003.96, 2005.38, 2006.8 , 2008.22,\n",
              "        2009.64, 2011.06, 2012.48, 2013.9 , 2015.32, 2016.74, 2018.16,\n",
              "        2019.58, 2021.  ]),\n",
              " <BarContainer object of 50 artists>)"
            ]
          },
          "metadata": {},
          "execution_count": 58
        },
        {
          "output_type": "display_data",
          "data": {
            "text/plain": [
              "<Figure size 640x480 with 1 Axes>"
            ],
            "image/png": "[encoded data removed]"
          },
          "metadata": {}
        }
      ]
    },
    {
      "cell_type": "code",
      "source": [
        "unknown = df.loc[df['Year-Of-Publication']==-1]\n",
        "print(f\"Unknown: {len(unknown)}\")\n",
        "under_1800 = df.loc[(df['Year-Of-Publication']>=0)&(df['Year-Of-Publication']<=1800)]\n",
        "print(f\"Under 1800: {len(under_1800)}\")\n",
        "century_19 = df.loc[(df['Year-Of-Publication']>1800)&(df['Year-Of-Publication']<=1900)]\n",
        "print(f\"19 century: {len(century_19)}\")\n",
        "century_20 = df.loc[(df['Year-Of-Publication']>1900)&(df['Year-Of-Publication']<=2000)]\n",
        "print(f\"20 century: {len(century_20)}\")\n",
        "for i in range(1900,2001,20):\n",
        "  year1, year2 = i, i+20\n",
        "  print(f\"{year1}-{year2}: {len(century_20.loc[(century_20['Year-Of-Publication']>year1)&(century_20['Year-Of-Publication']<=year2)])}\")\n",
        "century_21 = df.loc[(df['Year-Of-Publication']>2000)&(df['Year-Of-Publication']<=2021)]\n",
        "print(f\"21 century: {len(century_21)}\")"
      ],
      "metadata": {
        "colab": {
          "base_uri": "https://localhost:8080/"
        },
        "id": "DKfz_L4t8bDH",
        "outputId": "4353e5ce-f0c4-4a8e-bb11-d1effd4b1d0f"
      },
      "id": "DKfz_L4t8bDH",
      "execution_count": 59,
      "outputs": [
        {
          "output_type": "stream",
          "name": "stdout",
          "text": [
            "Unknown: 11515\n",
            "Under 1800: 2\n",
            "19 century: 4\n",
            "20 century: 632519\n",
            "1900-1920: 136\n",
            "1920-1940: 275\n",
            "1940-1960: 2435\n",
            "1960-1980: 31294\n",
            "1980-2000: 598379\n",
            "2000-2020: 0\n",
            "21 century: 227353\n"
          ]
        }
      ]
    },
    {
      "cell_type": "markdown",
      "source": [
        "- 시대를 끊을 수 있는 마땅한 기준이 보이지 않음\n",
        "- 다만, 시대가 가까워질수록 출판도서량이 많아지는 경향이 있음\n",
        "- Unknown(-1) 부분은 중앙값으로 대체"
      ],
      "metadata": {
        "id": "Fw62cyHV9IyO"
      },
      "id": "Fw62cyHV9IyO"
    },
    {
      "cell_type": "markdown",
      "source": [
        "## 8. Publisher"
      ],
      "metadata": {
        "id": "7PkRzXIJ9vBW"
      },
      "id": "7PkRzXIJ9vBW"
    },
    {
      "cell_type": "code",
      "source": [
        "df['Publisher'].value_counts()"
      ],
      "metadata": {
        "colab": {
          "base_uri": "https://localhost:8080/"
        },
        "id": "ZN4IrJqJ91y1",
        "outputId": "37c2b876-63d3-4aa5-b7be-b0b8a557b04c"
      },
      "id": "ZN4IrJqJ91y1",
      "execution_count": 60,
      "outputs": [
        {
          "output_type": "execute_result",
          "data": {
            "text/plain": [
              "Ballantine Books                          29696\n",
              "Pocket                                    27212\n",
              "Berkley Publishing Group                  23647\n",
              "Harlequin                                 21362\n",
              "Warner Books                              21263\n",
              "                                          ...  \n",
              "Editorial y Distribuidora Leo                 1\n",
              "Schoffling                                    1\n",
              "Family Values Publishing, Incorporated        1\n",
              "Slope Books                                   1\n",
              "Sterling Publishing Co                        1\n",
              "Name: Publisher, Length: 15505, dtype: int64"
            ]
          },
          "metadata": {},
          "execution_count": 60
        }
      ]
    },
    {
      "cell_type": "code",
      "source": [
        "df['Publisher'].value_counts().describe()"
      ],
      "metadata": {
        "colab": {
          "base_uri": "https://localhost:8080/"
        },
        "id": "_p_I130x96Q9",
        "outputId": "ec9caaba-d644-4ff8-e252-3829575c0efd"
      },
      "id": "_p_I130x96Q9",
      "execution_count": 64,
      "outputs": [
        {
          "output_type": "execute_result",
          "data": {
            "text/plain": [
              "count    15505.000000\n",
              "mean        56.200774\n",
              "std        659.732524\n",
              "min          1.000000\n",
              "25%          1.000000\n",
              "50%          2.000000\n",
              "75%          6.000000\n",
              "max      29696.000000\n",
              "Name: Publisher, dtype: float64"
            ]
          },
          "metadata": {},
          "execution_count": 64
        }
      ]
    },
    {
      "cell_type": "markdown",
      "source": [
        "- 단순 인코딩 (여기서도 깨진 글자, 비영어 언어 등장)"
      ],
      "metadata": {
        "id": "WLRddIkw-e5F"
      },
      "id": "WLRddIkw-e5F"
    }
  ],
  "metadata": {
    "kernelspec": {
      "display_name": "Python 3 (ipykernel)",
      "language": "python",
      "name": "python3"
    },
    "language_info": {
      "codemirror_mode": {
        "name": "ipython",
        "version": 3
      },
      "file_extension": ".py",
      "mimetype": "text/x-python",
      "name": "python",
      "nbconvert_exporter": "python",
      "pygments_lexer": "ipython3",
      "version": "3.10.5"
    },
    "colab": {
      "provenance": []
    }
  },
  "nbformat": 4,
  "nbformat_minor": 5
}